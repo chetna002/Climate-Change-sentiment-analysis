{
 "cells": [
  {
   "cell_type": "code",
   "execution_count": 1,
   "id": "4f780640",
   "metadata": {},
   "outputs": [
    {
     "data": {
      "text/plain": [
       "<function warnings.filterwarnings(action, message='', category=<class 'Warning'>, module='', lineno=0, append=False)>"
      ]
     },
     "execution_count": 1,
     "metadata": {},
     "output_type": "execute_result"
    }
   ],
   "source": [
    "import numpy as np\n",
    "import pandas as pd\n",
    "import matplotlib.pyplot as plt\n",
    "import seaborn as sns\n",
    "import warnings \n",
    "warnings.filterwarnings"
   ]
  },
  {
   "cell_type": "code",
   "execution_count": 2,
   "id": "c53681e1",
   "metadata": {},
   "outputs": [],
   "source": [
    "df=pd.read_csv(r\"C:\\Users\\uzuma\\Downloads\\climate_nasa.csv\")"
   ]
  },
  {
   "cell_type": "code",
   "execution_count": 3,
   "id": "efc86a7e",
   "metadata": {},
   "outputs": [
    {
     "data": {
      "text/html": [
       "<div>\n",
       "<style scoped>\n",
       "    .dataframe tbody tr th:only-of-type {\n",
       "        vertical-align: middle;\n",
       "    }\n",
       "\n",
       "    .dataframe tbody tr th {\n",
       "        vertical-align: top;\n",
       "    }\n",
       "\n",
       "    .dataframe thead th {\n",
       "        text-align: right;\n",
       "    }\n",
       "</style>\n",
       "<table border=\"1\" class=\"dataframe\">\n",
       "  <thead>\n",
       "    <tr style=\"text-align: right;\">\n",
       "      <th></th>\n",
       "      <th>date</th>\n",
       "      <th>likesCount</th>\n",
       "      <th>profileName</th>\n",
       "      <th>commentsCount</th>\n",
       "      <th>text</th>\n",
       "    </tr>\n",
       "  </thead>\n",
       "  <tbody>\n",
       "    <tr>\n",
       "      <th>0</th>\n",
       "      <td>2022-09-07T17:12:32.000Z</td>\n",
       "      <td>2</td>\n",
       "      <td>4dca617d86b3fdce80ba7e81fb16e048c9cd9798cdfd6d...</td>\n",
       "      <td>NaN</td>\n",
       "      <td>Neat comparison I have not heard it before.\\n ...</td>\n",
       "    </tr>\n",
       "    <tr>\n",
       "      <th>1</th>\n",
       "      <td>2022-09-08T14:51:13.000Z</td>\n",
       "      <td>0</td>\n",
       "      <td>518ab97f2d115ba5b6f03b2fba2ef2b120540c9681288b...</td>\n",
       "      <td>NaN</td>\n",
       "      <td>An excellent way to visualise the invisible! T...</td>\n",
       "    </tr>\n",
       "    <tr>\n",
       "      <th>2</th>\n",
       "      <td>2022-09-07T17:19:41.000Z</td>\n",
       "      <td>1</td>\n",
       "      <td>d82e8e24eb633fd625b0aef9b3cb625cfb044ceb8483e1...</td>\n",
       "      <td>3.0</td>\n",
       "      <td>Does the CO2/ghg in the troposphere affect the...</td>\n",
       "    </tr>\n",
       "    <tr>\n",
       "      <th>3</th>\n",
       "      <td>2022-09-08T00:51:30.000Z</td>\n",
       "      <td>4</td>\n",
       "      <td>37a509fa0b5177a2233c7e2d0e2b2d6916695fa9fba3f2...</td>\n",
       "      <td>NaN</td>\n",
       "      <td>excellent post! I defo feel the difference - o...</td>\n",
       "    </tr>\n",
       "    <tr>\n",
       "      <th>4</th>\n",
       "      <td>2022-09-07T19:06:20.000Z</td>\n",
       "      <td>16</td>\n",
       "      <td>e54fbbd42a729af9d04d9a5cc1f9bbfe8081a31c219ecb...</td>\n",
       "      <td>26.0</td>\n",
       "      <td>Yes, and carbon dioxide does not harm the Eart...</td>\n",
       "    </tr>\n",
       "    <tr>\n",
       "      <th>...</th>\n",
       "      <td>...</td>\n",
       "      <td>...</td>\n",
       "      <td>...</td>\n",
       "      <td>...</td>\n",
       "      <td>...</td>\n",
       "    </tr>\n",
       "    <tr>\n",
       "      <th>517</th>\n",
       "      <td>2022-12-22T17:21:37.000Z</td>\n",
       "      <td>0</td>\n",
       "      <td>9e17b1a6422032d47472f0216c73aafda7587e302eed5e...</td>\n",
       "      <td>NaN</td>\n",
       "      <td>One can only hope for a peak 😞</td>\n",
       "    </tr>\n",
       "    <tr>\n",
       "      <th>518</th>\n",
       "      <td>2022-12-22T17:19:51.000Z</td>\n",
       "      <td>1</td>\n",
       "      <td>48e55d898603a136aefc44771f248bffd67242583a462a...</td>\n",
       "      <td>5.0</td>\n",
       "      <td>what is the error margin for the temperature e...</td>\n",
       "    </tr>\n",
       "    <tr>\n",
       "      <th>519</th>\n",
       "      <td>2022-12-22T17:12:57.000Z</td>\n",
       "      <td>3</td>\n",
       "      <td>ca5d2611814cf8c9844ed06d9916d876d2dba94dac5ff2...</td>\n",
       "      <td>NaN</td>\n",
       "      <td>We all should volenteerly help in reducing Glo...</td>\n",
       "    </tr>\n",
       "    <tr>\n",
       "      <th>520</th>\n",
       "      <td>2022-12-22T17:01:12.000Z</td>\n",
       "      <td>1</td>\n",
       "      <td>a87c8aea74c9b97002b368d6143ce9c2809dcaec3103fb...</td>\n",
       "      <td>NaN</td>\n",
       "      <td>Sergio Yepes</td>\n",
       "    </tr>\n",
       "    <tr>\n",
       "      <th>521</th>\n",
       "      <td>2022-12-22T17:00:08.000Z</td>\n",
       "      <td>12</td>\n",
       "      <td>cc70f6c9dcc2637b1c5fd90046834612627c752b828cb4...</td>\n",
       "      <td>1.0</td>\n",
       "      <td>We're experiencing severe, abnormal weather pa...</td>\n",
       "    </tr>\n",
       "  </tbody>\n",
       "</table>\n",
       "<p>522 rows × 5 columns</p>\n",
       "</div>"
      ],
      "text/plain": [
       "                         date  likesCount  \\\n",
       "0    2022-09-07T17:12:32.000Z           2   \n",
       "1    2022-09-08T14:51:13.000Z           0   \n",
       "2    2022-09-07T17:19:41.000Z           1   \n",
       "3    2022-09-08T00:51:30.000Z           4   \n",
       "4    2022-09-07T19:06:20.000Z          16   \n",
       "..                        ...         ...   \n",
       "517  2022-12-22T17:21:37.000Z           0   \n",
       "518  2022-12-22T17:19:51.000Z           1   \n",
       "519  2022-12-22T17:12:57.000Z           3   \n",
       "520  2022-12-22T17:01:12.000Z           1   \n",
       "521  2022-12-22T17:00:08.000Z          12   \n",
       "\n",
       "                                           profileName  commentsCount  \\\n",
       "0    4dca617d86b3fdce80ba7e81fb16e048c9cd9798cdfd6d...            NaN   \n",
       "1    518ab97f2d115ba5b6f03b2fba2ef2b120540c9681288b...            NaN   \n",
       "2    d82e8e24eb633fd625b0aef9b3cb625cfb044ceb8483e1...            3.0   \n",
       "3    37a509fa0b5177a2233c7e2d0e2b2d6916695fa9fba3f2...            NaN   \n",
       "4    e54fbbd42a729af9d04d9a5cc1f9bbfe8081a31c219ecb...           26.0   \n",
       "..                                                 ...            ...   \n",
       "517  9e17b1a6422032d47472f0216c73aafda7587e302eed5e...            NaN   \n",
       "518  48e55d898603a136aefc44771f248bffd67242583a462a...            5.0   \n",
       "519  ca5d2611814cf8c9844ed06d9916d876d2dba94dac5ff2...            NaN   \n",
       "520  a87c8aea74c9b97002b368d6143ce9c2809dcaec3103fb...            NaN   \n",
       "521  cc70f6c9dcc2637b1c5fd90046834612627c752b828cb4...            1.0   \n",
       "\n",
       "                                                  text  \n",
       "0    Neat comparison I have not heard it before.\\n ...  \n",
       "1    An excellent way to visualise the invisible! T...  \n",
       "2    Does the CO2/ghg in the troposphere affect the...  \n",
       "3    excellent post! I defo feel the difference - o...  \n",
       "4    Yes, and carbon dioxide does not harm the Eart...  \n",
       "..                                                 ...  \n",
       "517                     One can only hope for a peak 😞  \n",
       "518  what is the error margin for the temperature e...  \n",
       "519  We all should volenteerly help in reducing Glo...  \n",
       "520                                       Sergio Yepes  \n",
       "521  We're experiencing severe, abnormal weather pa...  \n",
       "\n",
       "[522 rows x 5 columns]"
      ]
     },
     "execution_count": 3,
     "metadata": {},
     "output_type": "execute_result"
    }
   ],
   "source": [
    "df"
   ]
  },
  {
   "cell_type": "code",
   "execution_count": 4,
   "id": "0194eab6",
   "metadata": {},
   "outputs": [
    {
     "data": {
      "text/plain": [
       "date               0\n",
       "likesCount         0\n",
       "profileName        0\n",
       "commentsCount    278\n",
       "text              18\n",
       "dtype: int64"
      ]
     },
     "execution_count": 4,
     "metadata": {},
     "output_type": "execute_result"
    }
   ],
   "source": [
    "df.isna().sum()"
   ]
  },
  {
   "cell_type": "code",
   "execution_count": 5,
   "id": "7344244b",
   "metadata": {},
   "outputs": [
    {
     "data": {
      "text/plain": [
       "date              0.000000\n",
       "likesCount        0.000000\n",
       "profileName       0.000000\n",
       "commentsCount    53.256705\n",
       "text              3.448276\n",
       "dtype: float64"
      ]
     },
     "execution_count": 5,
     "metadata": {},
     "output_type": "execute_result"
    }
   ],
   "source": [
    "(df.isna().sum()/df.shape[0])*100"
   ]
  },
  {
   "cell_type": "code",
   "execution_count": 6,
   "id": "5228a81d",
   "metadata": {},
   "outputs": [],
   "source": [
    "df.drop(columns=[\"commentsCount\",\"profileName\"],axis=1,inplace=True)"
   ]
  },
  {
   "cell_type": "code",
   "execution_count": 7,
   "id": "b5c64637",
   "metadata": {},
   "outputs": [],
   "source": [
    "df[\"text\"].fillna(\"NO comment\",inplace=True)"
   ]
  },
  {
   "cell_type": "code",
   "execution_count": 8,
   "id": "cb8a462c",
   "metadata": {},
   "outputs": [
    {
     "data": {
      "text/plain": [
       "date          0\n",
       "likesCount    0\n",
       "text          0\n",
       "dtype: int64"
      ]
     },
     "execution_count": 8,
     "metadata": {},
     "output_type": "execute_result"
    }
   ],
   "source": [
    "df.isna().sum()"
   ]
  },
  {
   "cell_type": "code",
   "execution_count": 9,
   "id": "a705ef08",
   "metadata": {},
   "outputs": [
    {
     "data": {
      "text/plain": [
       "0      2022-09-07T17:12:32.000Z\n",
       "1      2022-09-08T14:51:13.000Z\n",
       "2      2022-09-07T17:19:41.000Z\n",
       "3      2022-09-08T00:51:30.000Z\n",
       "4      2022-09-07T19:06:20.000Z\n",
       "                 ...           \n",
       "517    2022-12-22T17:21:37.000Z\n",
       "518    2022-12-22T17:19:51.000Z\n",
       "519    2022-12-22T17:12:57.000Z\n",
       "520    2022-12-22T17:01:12.000Z\n",
       "521    2022-12-22T17:00:08.000Z\n",
       "Name: date, Length: 522, dtype: object"
      ]
     },
     "execution_count": 9,
     "metadata": {},
     "output_type": "execute_result"
    }
   ],
   "source": [
    "df[\"date\"]"
   ]
  },
  {
   "cell_type": "code",
   "execution_count": 10,
   "id": "f8cc3705",
   "metadata": {},
   "outputs": [],
   "source": [
    "from datetime import datetime\n",
    "df[\"date\"]=pd.to_datetime(df['date'])"
   ]
  },
  {
   "cell_type": "code",
   "execution_count": 11,
   "id": "4d609e2c",
   "metadata": {},
   "outputs": [],
   "source": [
    "df[\"Date\"]=df[\"date\"].dt.day\n",
    "df[\"Month\"]=df[\"date\"].dt.month\n",
    "df[\"year\"]=df[\"date\"].dt.year"
   ]
  },
  {
   "cell_type": "code",
   "execution_count": 12,
   "id": "e07a5beb",
   "metadata": {},
   "outputs": [],
   "source": [
    "df.drop(columns=[\"date\"],axis=1,inplace=True)"
   ]
  },
  {
   "cell_type": "code",
   "execution_count": 13,
   "id": "faef3571",
   "metadata": {},
   "outputs": [
    {
     "data": {
      "text/plain": [
       "likesCount     int64\n",
       "text          object\n",
       "Date           int32\n",
       "Month          int32\n",
       "year           int32\n",
       "dtype: object"
      ]
     },
     "execution_count": 13,
     "metadata": {},
     "output_type": "execute_result"
    }
   ],
   "source": [
    "df.dtypes"
   ]
  },
  {
   "cell_type": "code",
   "execution_count": 14,
   "id": "44a9b846",
   "metadata": {},
   "outputs": [],
   "source": [
    "df[\"length\"]=df['text'].apply(len)"
   ]
  },
  {
   "cell_type": "code",
   "execution_count": 15,
   "id": "30ba09d7",
   "metadata": {},
   "outputs": [
    {
     "data": {
      "text/html": [
       "<div>\n",
       "<style scoped>\n",
       "    .dataframe tbody tr th:only-of-type {\n",
       "        vertical-align: middle;\n",
       "    }\n",
       "\n",
       "    .dataframe tbody tr th {\n",
       "        vertical-align: top;\n",
       "    }\n",
       "\n",
       "    .dataframe thead th {\n",
       "        text-align: right;\n",
       "    }\n",
       "</style>\n",
       "<table border=\"1\" class=\"dataframe\">\n",
       "  <thead>\n",
       "    <tr style=\"text-align: right;\">\n",
       "      <th></th>\n",
       "      <th>likesCount</th>\n",
       "      <th>text</th>\n",
       "      <th>Date</th>\n",
       "      <th>Month</th>\n",
       "      <th>year</th>\n",
       "      <th>length</th>\n",
       "    </tr>\n",
       "  </thead>\n",
       "  <tbody>\n",
       "    <tr>\n",
       "      <th>0</th>\n",
       "      <td>2</td>\n",
       "      <td>Neat comparison I have not heard it before.\\n ...</td>\n",
       "      <td>7</td>\n",
       "      <td>9</td>\n",
       "      <td>2022</td>\n",
       "      <td>173</td>\n",
       "    </tr>\n",
       "    <tr>\n",
       "      <th>1</th>\n",
       "      <td>0</td>\n",
       "      <td>An excellent way to visualise the invisible! T...</td>\n",
       "      <td>8</td>\n",
       "      <td>9</td>\n",
       "      <td>2022</td>\n",
       "      <td>51</td>\n",
       "    </tr>\n",
       "    <tr>\n",
       "      <th>2</th>\n",
       "      <td>1</td>\n",
       "      <td>Does the CO2/ghg in the troposphere affect the...</td>\n",
       "      <td>7</td>\n",
       "      <td>9</td>\n",
       "      <td>2022</td>\n",
       "      <td>108</td>\n",
       "    </tr>\n",
       "    <tr>\n",
       "      <th>3</th>\n",
       "      <td>4</td>\n",
       "      <td>excellent post! I defo feel the difference - o...</td>\n",
       "      <td>8</td>\n",
       "      <td>9</td>\n",
       "      <td>2022</td>\n",
       "      <td>94</td>\n",
       "    </tr>\n",
       "    <tr>\n",
       "      <th>4</th>\n",
       "      <td>16</td>\n",
       "      <td>Yes, and carbon dioxide does not harm the Eart...</td>\n",
       "      <td>7</td>\n",
       "      <td>9</td>\n",
       "      <td>2022</td>\n",
       "      <td>128</td>\n",
       "    </tr>\n",
       "    <tr>\n",
       "      <th>...</th>\n",
       "      <td>...</td>\n",
       "      <td>...</td>\n",
       "      <td>...</td>\n",
       "      <td>...</td>\n",
       "      <td>...</td>\n",
       "      <td>...</td>\n",
       "    </tr>\n",
       "    <tr>\n",
       "      <th>517</th>\n",
       "      <td>0</td>\n",
       "      <td>One can only hope for a peak 😞</td>\n",
       "      <td>22</td>\n",
       "      <td>12</td>\n",
       "      <td>2022</td>\n",
       "      <td>30</td>\n",
       "    </tr>\n",
       "    <tr>\n",
       "      <th>518</th>\n",
       "      <td>1</td>\n",
       "      <td>what is the error margin for the temperature e...</td>\n",
       "      <td>22</td>\n",
       "      <td>12</td>\n",
       "      <td>2022</td>\n",
       "      <td>76</td>\n",
       "    </tr>\n",
       "    <tr>\n",
       "      <th>519</th>\n",
       "      <td>3</td>\n",
       "      <td>We all should volenteerly help in reducing Glo...</td>\n",
       "      <td>22</td>\n",
       "      <td>12</td>\n",
       "      <td>2022</td>\n",
       "      <td>58</td>\n",
       "    </tr>\n",
       "    <tr>\n",
       "      <th>520</th>\n",
       "      <td>1</td>\n",
       "      <td>Sergio Yepes</td>\n",
       "      <td>22</td>\n",
       "      <td>12</td>\n",
       "      <td>2022</td>\n",
       "      <td>12</td>\n",
       "    </tr>\n",
       "    <tr>\n",
       "      <th>521</th>\n",
       "      <td>12</td>\n",
       "      <td>We're experiencing severe, abnormal weather pa...</td>\n",
       "      <td>22</td>\n",
       "      <td>12</td>\n",
       "      <td>2022</td>\n",
       "      <td>122</td>\n",
       "    </tr>\n",
       "  </tbody>\n",
       "</table>\n",
       "<p>522 rows × 6 columns</p>\n",
       "</div>"
      ],
      "text/plain": [
       "     likesCount                                               text  Date  \\\n",
       "0             2  Neat comparison I have not heard it before.\\n ...     7   \n",
       "1             0  An excellent way to visualise the invisible! T...     8   \n",
       "2             1  Does the CO2/ghg in the troposphere affect the...     7   \n",
       "3             4  excellent post! I defo feel the difference - o...     8   \n",
       "4            16  Yes, and carbon dioxide does not harm the Eart...     7   \n",
       "..          ...                                                ...   ...   \n",
       "517           0                     One can only hope for a peak 😞    22   \n",
       "518           1  what is the error margin for the temperature e...    22   \n",
       "519           3  We all should volenteerly help in reducing Glo...    22   \n",
       "520           1                                       Sergio Yepes    22   \n",
       "521          12  We're experiencing severe, abnormal weather pa...    22   \n",
       "\n",
       "     Month  year  length  \n",
       "0        9  2022     173  \n",
       "1        9  2022      51  \n",
       "2        9  2022     108  \n",
       "3        9  2022      94  \n",
       "4        9  2022     128  \n",
       "..     ...   ...     ...  \n",
       "517     12  2022      30  \n",
       "518     12  2022      76  \n",
       "519     12  2022      58  \n",
       "520     12  2022      12  \n",
       "521     12  2022     122  \n",
       "\n",
       "[522 rows x 6 columns]"
      ]
     },
     "execution_count": 15,
     "metadata": {},
     "output_type": "execute_result"
    }
   ],
   "source": [
    "df"
   ]
  },
  {
   "cell_type": "code",
   "execution_count": 16,
   "id": "45f187b6",
   "metadata": {},
   "outputs": [
    {
     "data": {
      "text/html": [
       "<div>\n",
       "<style scoped>\n",
       "    .dataframe tbody tr th:only-of-type {\n",
       "        vertical-align: middle;\n",
       "    }\n",
       "\n",
       "    .dataframe tbody tr th {\n",
       "        vertical-align: top;\n",
       "    }\n",
       "\n",
       "    .dataframe thead th {\n",
       "        text-align: right;\n",
       "    }\n",
       "</style>\n",
       "<table border=\"1\" class=\"dataframe\">\n",
       "  <thead>\n",
       "    <tr style=\"text-align: right;\">\n",
       "      <th></th>\n",
       "      <th>likesCount</th>\n",
       "      <th>Date</th>\n",
       "      <th>Month</th>\n",
       "      <th>year</th>\n",
       "      <th>length</th>\n",
       "    </tr>\n",
       "  </thead>\n",
       "  <tbody>\n",
       "    <tr>\n",
       "      <th>count</th>\n",
       "      <td>522.000000</td>\n",
       "      <td>522.000000</td>\n",
       "      <td>522.000000</td>\n",
       "      <td>522.000000</td>\n",
       "      <td>522.000000</td>\n",
       "    </tr>\n",
       "    <tr>\n",
       "      <th>mean</th>\n",
       "      <td>4.720307</td>\n",
       "      <td>17.511494</td>\n",
       "      <td>9.687739</td>\n",
       "      <td>2021.356322</td>\n",
       "      <td>179.383142</td>\n",
       "    </tr>\n",
       "    <tr>\n",
       "      <th>std</th>\n",
       "      <td>12.053556</td>\n",
       "      <td>7.027015</td>\n",
       "      <td>1.844274</td>\n",
       "      <td>1.118441</td>\n",
       "      <td>519.864498</td>\n",
       "    </tr>\n",
       "    <tr>\n",
       "      <th>min</th>\n",
       "      <td>0.000000</td>\n",
       "      <td>1.000000</td>\n",
       "      <td>1.000000</td>\n",
       "      <td>2020.000000</td>\n",
       "      <td>1.000000</td>\n",
       "    </tr>\n",
       "    <tr>\n",
       "      <th>25%</th>\n",
       "      <td>0.000000</td>\n",
       "      <td>15.000000</td>\n",
       "      <td>9.000000</td>\n",
       "      <td>2020.000000</td>\n",
       "      <td>37.000000</td>\n",
       "    </tr>\n",
       "    <tr>\n",
       "      <th>50%</th>\n",
       "      <td>1.000000</td>\n",
       "      <td>16.000000</td>\n",
       "      <td>9.000000</td>\n",
       "      <td>2021.000000</td>\n",
       "      <td>88.500000</td>\n",
       "    </tr>\n",
       "    <tr>\n",
       "      <th>75%</th>\n",
       "      <td>4.000000</td>\n",
       "      <td>23.000000</td>\n",
       "      <td>11.000000</td>\n",
       "      <td>2022.000000</td>\n",
       "      <td>176.000000</td>\n",
       "    </tr>\n",
       "    <tr>\n",
       "      <th>max</th>\n",
       "      <td>126.000000</td>\n",
       "      <td>31.000000</td>\n",
       "      <td>12.000000</td>\n",
       "      <td>2023.000000</td>\n",
       "      <td>7649.000000</td>\n",
       "    </tr>\n",
       "  </tbody>\n",
       "</table>\n",
       "</div>"
      ],
      "text/plain": [
       "       likesCount        Date       Month         year       length\n",
       "count  522.000000  522.000000  522.000000   522.000000   522.000000\n",
       "mean     4.720307   17.511494    9.687739  2021.356322   179.383142\n",
       "std     12.053556    7.027015    1.844274     1.118441   519.864498\n",
       "min      0.000000    1.000000    1.000000  2020.000000     1.000000\n",
       "25%      0.000000   15.000000    9.000000  2020.000000    37.000000\n",
       "50%      1.000000   16.000000    9.000000  2021.000000    88.500000\n",
       "75%      4.000000   23.000000   11.000000  2022.000000   176.000000\n",
       "max    126.000000   31.000000   12.000000  2023.000000  7649.000000"
      ]
     },
     "execution_count": 16,
     "metadata": {},
     "output_type": "execute_result"
    }
   ],
   "source": [
    "df.describe()"
   ]
  },
  {
   "cell_type": "code",
   "execution_count": 17,
   "id": "34c20146",
   "metadata": {},
   "outputs": [
    {
     "name": "stderr",
     "output_type": "stream",
     "text": [
      "C:\\Users\\uzuma\\AppData\\Local\\Temp\\ipykernel_23328\\3858697360.py:1: UserWarning: \n",
      "\n",
      "`distplot` is a deprecated function and will be removed in seaborn v0.14.0.\n",
      "\n",
      "Please adapt your code to use either `displot` (a figure-level function with\n",
      "similar flexibility) or `histplot` (an axes-level function for histograms).\n",
      "\n",
      "For a guide to updating your code to use the new functions, please see\n",
      "https://gist.github.com/mwaskom/de44147ed2974457ad6372750bbe5751\n",
      "\n",
      "  sns.distplot(df[\"length\"])\n"
     ]
    },
    {
     "data": {
      "text/plain": [
       "<Axes: xlabel='length', ylabel='Density'>"
      ]
     },
     "execution_count": 17,
     "metadata": {},
     "output_type": "execute_result"
    },
    {
     "data": {
      "image/png": "[encoded data removed]",
      "text/plain": [
       "<Figure size 640x480 with 1 Axes>"
      ]
     },
     "metadata": {},
     "output_type": "display_data"
    }
   ],
   "source": [
    "sns.distplot(df[\"length\"])"
   ]
  },
  {
   "cell_type": "code",
   "execution_count": 18,
   "id": "dcb44f11",
   "metadata": {},
   "outputs": [
    {
     "data": {
      "text/html": [
       "<div>\n",
       "<style scoped>\n",
       "    .dataframe tbody tr th:only-of-type {\n",
       "        vertical-align: middle;\n",
       "    }\n",
       "\n",
       "    .dataframe tbody tr th {\n",
       "        vertical-align: top;\n",
       "    }\n",
       "\n",
       "    .dataframe thead th {\n",
       "        text-align: right;\n",
       "    }\n",
       "</style>\n",
       "<table border=\"1\" class=\"dataframe\">\n",
       "  <thead>\n",
       "    <tr style=\"text-align: right;\">\n",
       "      <th></th>\n",
       "      <th>likesCount</th>\n",
       "      <th>text</th>\n",
       "      <th>Date</th>\n",
       "      <th>Month</th>\n",
       "      <th>year</th>\n",
       "      <th>length</th>\n",
       "    </tr>\n",
       "  </thead>\n",
       "  <tbody>\n",
       "    <tr>\n",
       "      <th>45</th>\n",
       "      <td>0</td>\n",
       "      <td>The “greenhouse effect” is concerned with the ...</td>\n",
       "      <td>6</td>\n",
       "      <td>1</td>\n",
       "      <td>2023</td>\n",
       "      <td>7649</td>\n",
       "    </tr>\n",
       "    <tr>\n",
       "      <th>475</th>\n",
       "      <td>0</td>\n",
       "      <td>The “greenhouse effect” is concerned with the ...</td>\n",
       "      <td>6</td>\n",
       "      <td>1</td>\n",
       "      <td>2023</td>\n",
       "      <td>7649</td>\n",
       "    </tr>\n",
       "  </tbody>\n",
       "</table>\n",
       "</div>"
      ],
      "text/plain": [
       "     likesCount                                               text  Date  \\\n",
       "45            0  The “greenhouse effect” is concerned with the ...     6   \n",
       "475           0  The “greenhouse effect” is concerned with the ...     6   \n",
       "\n",
       "     Month  year  length  \n",
       "45       1  2023    7649  \n",
       "475      1  2023    7649  "
      ]
     },
     "execution_count": 18,
     "metadata": {},
     "output_type": "execute_result"
    }
   ],
   "source": [
    "df[df[\"length\"]>7000]"
   ]
  },
  {
   "cell_type": "code",
   "execution_count": 19,
   "id": "37030fad",
   "metadata": {},
   "outputs": [],
   "source": [
    "df[\"text\"]=df[\"text\"].apply(lambda x:x.lower())"
   ]
  },
  {
   "cell_type": "code",
   "execution_count": 20,
   "id": "d3b7b9de",
   "metadata": {},
   "outputs": [
    {
     "data": {
      "text/html": [
       "<div>\n",
       "<style scoped>\n",
       "    .dataframe tbody tr th:only-of-type {\n",
       "        vertical-align: middle;\n",
       "    }\n",
       "\n",
       "    .dataframe tbody tr th {\n",
       "        vertical-align: top;\n",
       "    }\n",
       "\n",
       "    .dataframe thead th {\n",
       "        text-align: right;\n",
       "    }\n",
       "</style>\n",
       "<table border=\"1\" class=\"dataframe\">\n",
       "  <thead>\n",
       "    <tr style=\"text-align: right;\">\n",
       "      <th></th>\n",
       "      <th>likesCount</th>\n",
       "      <th>text</th>\n",
       "      <th>Date</th>\n",
       "      <th>Month</th>\n",
       "      <th>year</th>\n",
       "      <th>length</th>\n",
       "    </tr>\n",
       "  </thead>\n",
       "  <tbody>\n",
       "    <tr>\n",
       "      <th>0</th>\n",
       "      <td>2</td>\n",
       "      <td>neat comparison i have not heard it before.\\n ...</td>\n",
       "      <td>7</td>\n",
       "      <td>9</td>\n",
       "      <td>2022</td>\n",
       "      <td>173</td>\n",
       "    </tr>\n",
       "    <tr>\n",
       "      <th>1</th>\n",
       "      <td>0</td>\n",
       "      <td>an excellent way to visualise the invisible! t...</td>\n",
       "      <td>8</td>\n",
       "      <td>9</td>\n",
       "      <td>2022</td>\n",
       "      <td>51</td>\n",
       "    </tr>\n",
       "    <tr>\n",
       "      <th>2</th>\n",
       "      <td>1</td>\n",
       "      <td>does the co2/ghg in the troposphere affect the...</td>\n",
       "      <td>7</td>\n",
       "      <td>9</td>\n",
       "      <td>2022</td>\n",
       "      <td>108</td>\n",
       "    </tr>\n",
       "    <tr>\n",
       "      <th>3</th>\n",
       "      <td>4</td>\n",
       "      <td>excellent post! i defo feel the difference - o...</td>\n",
       "      <td>8</td>\n",
       "      <td>9</td>\n",
       "      <td>2022</td>\n",
       "      <td>94</td>\n",
       "    </tr>\n",
       "    <tr>\n",
       "      <th>4</th>\n",
       "      <td>16</td>\n",
       "      <td>yes, and carbon dioxide does not harm the eart...</td>\n",
       "      <td>7</td>\n",
       "      <td>9</td>\n",
       "      <td>2022</td>\n",
       "      <td>128</td>\n",
       "    </tr>\n",
       "    <tr>\n",
       "      <th>...</th>\n",
       "      <td>...</td>\n",
       "      <td>...</td>\n",
       "      <td>...</td>\n",
       "      <td>...</td>\n",
       "      <td>...</td>\n",
       "      <td>...</td>\n",
       "    </tr>\n",
       "    <tr>\n",
       "      <th>517</th>\n",
       "      <td>0</td>\n",
       "      <td>one can only hope for a peak 😞</td>\n",
       "      <td>22</td>\n",
       "      <td>12</td>\n",
       "      <td>2022</td>\n",
       "      <td>30</td>\n",
       "    </tr>\n",
       "    <tr>\n",
       "      <th>518</th>\n",
       "      <td>1</td>\n",
       "      <td>what is the error margin for the temperature e...</td>\n",
       "      <td>22</td>\n",
       "      <td>12</td>\n",
       "      <td>2022</td>\n",
       "      <td>76</td>\n",
       "    </tr>\n",
       "    <tr>\n",
       "      <th>519</th>\n",
       "      <td>3</td>\n",
       "      <td>we all should volenteerly help in reducing glo...</td>\n",
       "      <td>22</td>\n",
       "      <td>12</td>\n",
       "      <td>2022</td>\n",
       "      <td>58</td>\n",
       "    </tr>\n",
       "    <tr>\n",
       "      <th>520</th>\n",
       "      <td>1</td>\n",
       "      <td>sergio yepes</td>\n",
       "      <td>22</td>\n",
       "      <td>12</td>\n",
       "      <td>2022</td>\n",
       "      <td>12</td>\n",
       "    </tr>\n",
       "    <tr>\n",
       "      <th>521</th>\n",
       "      <td>12</td>\n",
       "      <td>we're experiencing severe, abnormal weather pa...</td>\n",
       "      <td>22</td>\n",
       "      <td>12</td>\n",
       "      <td>2022</td>\n",
       "      <td>122</td>\n",
       "    </tr>\n",
       "  </tbody>\n",
       "</table>\n",
       "<p>522 rows × 6 columns</p>\n",
       "</div>"
      ],
      "text/plain": [
       "     likesCount                                               text  Date  \\\n",
       "0             2  neat comparison i have not heard it before.\\n ...     7   \n",
       "1             0  an excellent way to visualise the invisible! t...     8   \n",
       "2             1  does the co2/ghg in the troposphere affect the...     7   \n",
       "3             4  excellent post! i defo feel the difference - o...     8   \n",
       "4            16  yes, and carbon dioxide does not harm the eart...     7   \n",
       "..          ...                                                ...   ...   \n",
       "517           0                     one can only hope for a peak 😞    22   \n",
       "518           1  what is the error margin for the temperature e...    22   \n",
       "519           3  we all should volenteerly help in reducing glo...    22   \n",
       "520           1                                       sergio yepes    22   \n",
       "521          12  we're experiencing severe, abnormal weather pa...    22   \n",
       "\n",
       "     Month  year  length  \n",
       "0        9  2022     173  \n",
       "1        9  2022      51  \n",
       "2        9  2022     108  \n",
       "3        9  2022      94  \n",
       "4        9  2022     128  \n",
       "..     ...   ...     ...  \n",
       "517     12  2022      30  \n",
       "518     12  2022      76  \n",
       "519     12  2022      58  \n",
       "520     12  2022      12  \n",
       "521     12  2022     122  \n",
       "\n",
       "[522 rows x 6 columns]"
      ]
     },
     "execution_count": 20,
     "metadata": {},
     "output_type": "execute_result"
    }
   ],
   "source": [
    "df"
   ]
  },
  {
   "cell_type": "code",
   "execution_count": 21,
   "id": "72663f9b",
   "metadata": {},
   "outputs": [
    {
     "name": "stdout",
     "output_type": "stream",
     "text": [
      "Mean length 179.3831417624521\n",
      "Std dev 519.8644983864783\n",
      "Median 88.5\n",
      "Minimum length 1\n",
      "Maximum length 7649\n"
     ]
    }
   ],
   "source": [
    "print(\"Mean length\",df[\"length\"].mean())\n",
    "print(\"Std dev\",df[\"length\"].std())\n",
    "print(\"Median\",df[\"length\"].median())\n",
    "print(\"Minimum length\",df[\"length\"].min())\n",
    "print(\"Maximum length\",df[\"length\"].max())"
   ]
  },
  {
   "cell_type": "code",
   "execution_count": 22,
   "id": "b608dfea",
   "metadata": {},
   "outputs": [
    {
     "data": {
      "text/plain": [
       "'the “greenhouse effect” is concerned with the infrared radiation given off by the earth. the sun’s radiation basically passes through the oxygen and nitrogen in the earth’s atmosphere and lands on the earth’s surface, where 70% of it is absorbed; 30% is reflected back into the atmosphere. part of this radiation bounces off the greenhouse gases and returns to be absorbed by earth. the greenhouses gases (ghgs) are water vapor (h2o), carbon dioxide (co2), nitrous oxide (no2) and methane (ch4).\\n\\nhow long does co2 remain in the atmosphere? this is a difficult question because there are several processes that remove carbon dioxide from the atmosphere. from 65% to 80% of the co2 that is released into the air dissolves into the ocean over a period of 50-200 years. the rest is removed over several hundred thousand years. according to the ipcc fourth assessment report, about 50% of co2 increase will be removed from the atmosphere within 30 years, another 30% will be removed within a few centuries and the remaining 20% may stay in the atmosphere for thousands of years. this means that if we could stop carbon dioxide emissions tomorrow, the carbon dioxide in the atmosphere would continue to warm the climate for thousands of years. methane (ch4), by contrast, persists for about 12 years. thus, even though methane is 26 times more potent than carbon dioxide, its effect is relatively short-lived. furthermore, methane has increased from 700 ppb in 1750 to 1893 ppb today; notice that is parts per billion, not parts per million.\\n\\nif the emissions of carbon dioxide into the atmosphere are causing global warming, how much will the earth warm up by the year 2100? this depends upon how many billions of tons of carbon dioxide are being emitted into the atmosphere. as a general rule, about 1 trillion tons of additional carbon dioxide in the atmosphere (actually 975 billion) will translate to about 125 ppm of additional carbon dioxide. also, 125 ppm of additional carbon dioxide translates to about 1.8 °f (1 °c) in global warming. this can be verified by the fact that pre-industrial carbon dioxide was about 280 ppm and is now about 405 ppm. during this period, the planet warmed up about 1 °c.\\n\\nscientists have measured the amount of atmospheric carbon dioxide which corresponds to 1 ppm and have found that this corresponds to 7.8 billion metric tons of co2 in the atmosphere. therefore, in order to increase the global temperature by 1 °c, you would need 125 x 7.8 billion or 975 billion metric tons of carbon dioxide. a metric ton equals 1,000 kilograms (or 2.2 x 1,000 = 2,200 pounds); the u.s. is the only country in the world that does not use the metric ton. in 2016, the world pumped 36.1 billion metric tons (or 39.8 u.s. gt) of carbon dioxide into the atmosphere. the average per capita emission of carbon dioxide is 7 metric tons per person per year. in the year 2100, there will be about 11 billion people. therefore, in 2100, in a business-as-usual scenario, we can expect the world to emit 11 x 7 or 77 billion metric tons into the atmosphere per year or an average of 56.5 billion tons for the next 80 years, i.e., an accumulation of 4.52 trillion tons of co2 by 2300.  less 25% (1.13 tt) due to carbon sinks (the oceans are almost saturated with co2), the world will have an accumulation of 3.4tt (4.52 – 1.13) of carbon in the atmosphere. dividing 3.4 trillion tons of co2 by 975 million = 3.48 °c (6.26 °f).  this means that the world will be 6.26 °f warmer in 2100 than it was in 2020.\\n\\nthe rise in sea level comes from two distinct processes: water expansions (3.3 feet) due to the added 6.26 °f of increased temperature and melting ice, mainly from greenland (.41 feet) and the antarctica (.2 feet) or 3.91 total feet by 2100, as well as increased extraction of groundwater due to irrigation.   although we do not usually notice it, water expands very slightly as it gets warmer. the second and potentially greater contribution to rising sea level comes from the melting of glacial ice. antarctica has 90% of the ice, greenland has 9% of the ice (2,931 trillion tons of ice) and the remaining 1% is tied up in continental glaciers, which except for the himalayas will all melt by 2100.  if greenland completely melts, it will raise the sea level by about 24 feet (7.2 meters).  if the antarctica completely melts, it will add 200 feet (or 60 meters) to the sea level rise.   \\n\\nin the year 2100, i predict that fossil fuels will be almost depleted (coal may last until 2150) and that the temperature rise will level off. my model predicts that greenland will be losing about 500 gt of ice per year until the end of the century, resulting in about 0.41 feet of sea level rise by 2100.  in addition, the antarctica will add another 0.2 feet of sea level rise. adding this to the 3.3 feet for thermal warming results in a sea level rise of 3.9 feet.  now add 2 feet due to melting of the west antarctic ice sheet (wais) due to the collapse of the pine island and thwaites glaciers and you have a 5.9 foot sea level rise by the end of the century.  noaa (the national oceanic and atmospheric administration) states that the oceans could rise 8 feet by 2100 under a worse-case scenario, namely a complete collapse of the wais.  \\n\\nwhat effect would a 5.9 foot sea level rise have on the u.s.? miami is one of the most vulnerable places to rising seas. about 2 million americans would see their homes permanently flooded if sea levels rise just 3 feet. if the sea level rises 6 feet, 6 million americans would see their homes permanently flooded. a new study predicts that as many as 13.1 million americans in coastal areas will have to relocate by 2100 if the sea level rises 5.9 feet (1.8 meters), which is what i expect to be the most likely scenario.\\n\\nin addition to sea-level rise, global warming is contributing to increases in the spread of insect-borne illnesses and crop-damaging pests. for example, diseases such as zika, dengue fever and chikungunya are transmitted by mosquitoes, which pick up these diseases by biting infected people and then spreading them to other people through subsequent bites. research has shown that warmer temperatures shorten the incubation period, which means the disease can spread more rapidly. warmer temperatures also tend to increase the geographic range of insects.\\n\\nglobal warming also translates into more extreme weather events because higher temperatures mean an increase in energy in the atmosphere and oceans; energy is what drives weather. while we cannot attribute any particular storm to global warming, we can tie an overall trend to global warming. it makes logical sense that warm ocean waters give birth to more intense weather. generally, hurricanes cannot survive for long over sea surfaces that are cooler than about 79 °f (26 °c). the longer the ocean waters stay above 79 °f, the more opportunity there is for a hurricane to blossom.\\n\\nlastly, global warming will result in more droughts, floods and water scarcity.  demand for water has tripled during the past 50 years. currently a half billion people live in a water-stressed country. by 2025, that number is expected to increase to about 3 billion. the vast majority of fresh water, about 70%, is used for agriculture. on the u.s. east coast, much of the water supply comes from surface water, whereas most of the midwest gets its water supply from a combination of surface waters and well water. the well water comes from underground aquifers such as the ogallala aquifer. at present rates of withdrawal, parts of the ogallala aquifer water will be available for irrigation for only another 10 to 20 years.'"
      ]
     },
     "execution_count": 22,
     "metadata": {},
     "output_type": "execute_result"
    }
   ],
   "source": [
    "df[df[\"length\"]==7649][\"text\"].iloc[0]"
   ]
  },
  {
   "cell_type": "code",
   "execution_count": 23,
   "id": "3e97de30",
   "metadata": {},
   "outputs": [
    {
     "data": {
      "text/plain": [
       "'😭'"
      ]
     },
     "execution_count": 23,
     "metadata": {},
     "output_type": "execute_result"
    }
   ],
   "source": [
    "df[df[\"length\"]==1][\"text\"].iloc[0]"
   ]
  },
  {
   "cell_type": "code",
   "execution_count": 24,
   "id": "27c53db5",
   "metadata": {},
   "outputs": [
    {
     "data": {
      "text/html": [
       "<div>\n",
       "<style scoped>\n",
       "    .dataframe tbody tr th:only-of-type {\n",
       "        vertical-align: middle;\n",
       "    }\n",
       "\n",
       "    .dataframe tbody tr th {\n",
       "        vertical-align: top;\n",
       "    }\n",
       "\n",
       "    .dataframe thead th {\n",
       "        text-align: right;\n",
       "    }\n",
       "</style>\n",
       "<table border=\"1\" class=\"dataframe\">\n",
       "  <thead>\n",
       "    <tr style=\"text-align: right;\">\n",
       "      <th></th>\n",
       "      <th>likesCount</th>\n",
       "      <th>text</th>\n",
       "      <th>Date</th>\n",
       "      <th>Month</th>\n",
       "      <th>year</th>\n",
       "      <th>length</th>\n",
       "    </tr>\n",
       "  </thead>\n",
       "  <tbody>\n",
       "    <tr>\n",
       "      <th>0</th>\n",
       "      <td>2</td>\n",
       "      <td>neat comparison i have not heard it before.\\n ...</td>\n",
       "      <td>7</td>\n",
       "      <td>9</td>\n",
       "      <td>2022</td>\n",
       "      <td>173</td>\n",
       "    </tr>\n",
       "    <tr>\n",
       "      <th>1</th>\n",
       "      <td>0</td>\n",
       "      <td>an excellent way to visualise the invisible! t...</td>\n",
       "      <td>8</td>\n",
       "      <td>9</td>\n",
       "      <td>2022</td>\n",
       "      <td>51</td>\n",
       "    </tr>\n",
       "    <tr>\n",
       "      <th>2</th>\n",
       "      <td>1</td>\n",
       "      <td>does the co2/ghg in the troposphere affect the...</td>\n",
       "      <td>7</td>\n",
       "      <td>9</td>\n",
       "      <td>2022</td>\n",
       "      <td>108</td>\n",
       "    </tr>\n",
       "    <tr>\n",
       "      <th>3</th>\n",
       "      <td>4</td>\n",
       "      <td>excellent post! i defo feel the difference - o...</td>\n",
       "      <td>8</td>\n",
       "      <td>9</td>\n",
       "      <td>2022</td>\n",
       "      <td>94</td>\n",
       "    </tr>\n",
       "    <tr>\n",
       "      <th>4</th>\n",
       "      <td>16</td>\n",
       "      <td>yes, and carbon dioxide does not harm the eart...</td>\n",
       "      <td>7</td>\n",
       "      <td>9</td>\n",
       "      <td>2022</td>\n",
       "      <td>128</td>\n",
       "    </tr>\n",
       "  </tbody>\n",
       "</table>\n",
       "</div>"
      ],
      "text/plain": [
       "   likesCount                                               text  Date  Month  \\\n",
       "0           2  neat comparison i have not heard it before.\\n ...     7      9   \n",
       "1           0  an excellent way to visualise the invisible! t...     8      9   \n",
       "2           1  does the co2/ghg in the troposphere affect the...     7      9   \n",
       "3           4  excellent post! i defo feel the difference - o...     8      9   \n",
       "4          16  yes, and carbon dioxide does not harm the eart...     7      9   \n",
       "\n",
       "   year  length  \n",
       "0  2022     173  \n",
       "1  2022      51  \n",
       "2  2022     108  \n",
       "3  2022      94  \n",
       "4  2022     128  "
      ]
     },
     "execution_count": 24,
     "metadata": {},
     "output_type": "execute_result"
    }
   ],
   "source": [
    "df.head()"
   ]
  },
  {
   "cell_type": "code",
   "execution_count": null,
   "id": "96958d97",
   "metadata": {},
   "outputs": [],
   "source": [
    "# clean the data using nltk"
   ]
  },
  {
   "cell_type": "code",
   "execution_count": 25,
   "id": "61f06996",
   "metadata": {},
   "outputs": [],
   "source": [
    "import re\n",
    "import nltk\n",
    "from nltk.corpus import stopwords"
   ]
  },
  {
   "cell_type": "code",
   "execution_count": 26,
   "id": "ad4d1ef0",
   "metadata": {},
   "outputs": [
    {
     "name": "stderr",
     "output_type": "stream",
     "text": [
      "[nltk_data] Downloading package stopwords to\n",
      "[nltk_data]     C:\\Users\\uzuma\\AppData\\Roaming\\nltk_data...\n",
      "[nltk_data]   Package stopwords is already up-to-date!\n"
     ]
    },
    {
     "data": {
      "text/plain": [
       "True"
      ]
     },
     "execution_count": 26,
     "metadata": {},
     "output_type": "execute_result"
    }
   ],
   "source": [
    "nltk.download('stopwords')"
   ]
  },
  {
   "cell_type": "code",
   "execution_count": 27,
   "id": "b87bd3d0",
   "metadata": {},
   "outputs": [],
   "source": [
    "stop_words=stopwords.words(\"english\")"
   ]
  },
  {
   "cell_type": "code",
   "execution_count": 28,
   "id": "4e1651e5",
   "metadata": {},
   "outputs": [
    {
     "data": {
      "text/plain": [
       "['i',\n",
       " 'me',\n",
       " 'my',\n",
       " 'myself',\n",
       " 'we',\n",
       " 'our',\n",
       " 'ours',\n",
       " 'ourselves',\n",
       " 'you',\n",
       " \"you're\",\n",
       " \"you've\",\n",
       " \"you'll\",\n",
       " \"you'd\",\n",
       " 'your',\n",
       " 'yours',\n",
       " 'yourself',\n",
       " 'yourselves',\n",
       " 'he',\n",
       " 'him',\n",
       " 'his',\n",
       " 'himself',\n",
       " 'she',\n",
       " \"she's\",\n",
       " 'her',\n",
       " 'hers',\n",
       " 'herself',\n",
       " 'it',\n",
       " \"it's\",\n",
       " 'its',\n",
       " 'itself',\n",
       " 'they',\n",
       " 'them',\n",
       " 'their',\n",
       " 'theirs',\n",
       " 'themselves',\n",
       " 'what',\n",
       " 'which',\n",
       " 'who',\n",
       " 'whom',\n",
       " 'this',\n",
       " 'that',\n",
       " \"that'll\",\n",
       " 'these',\n",
       " 'those',\n",
       " 'am',\n",
       " 'is',\n",
       " 'are',\n",
       " 'was',\n",
       " 'were',\n",
       " 'be',\n",
       " 'been',\n",
       " 'being',\n",
       " 'have',\n",
       " 'has',\n",
       " 'had',\n",
       " 'having',\n",
       " 'do',\n",
       " 'does',\n",
       " 'did',\n",
       " 'doing',\n",
       " 'a',\n",
       " 'an',\n",
       " 'the',\n",
       " 'and',\n",
       " 'but',\n",
       " 'if',\n",
       " 'or',\n",
       " 'because',\n",
       " 'as',\n",
       " 'until',\n",
       " 'while',\n",
       " 'of',\n",
       " 'at',\n",
       " 'by',\n",
       " 'for',\n",
       " 'with',\n",
       " 'about',\n",
       " 'against',\n",
       " 'between',\n",
       " 'into',\n",
       " 'through',\n",
       " 'during',\n",
       " 'before',\n",
       " 'after',\n",
       " 'above',\n",
       " 'below',\n",
       " 'to',\n",
       " 'from',\n",
       " 'up',\n",
       " 'down',\n",
       " 'in',\n",
       " 'out',\n",
       " 'on',\n",
       " 'off',\n",
       " 'over',\n",
       " 'under',\n",
       " 'again',\n",
       " 'further',\n",
       " 'then',\n",
       " 'once',\n",
       " 'here',\n",
       " 'there',\n",
       " 'when',\n",
       " 'where',\n",
       " 'why',\n",
       " 'how',\n",
       " 'all',\n",
       " 'any',\n",
       " 'both',\n",
       " 'each',\n",
       " 'few',\n",
       " 'more',\n",
       " 'most',\n",
       " 'other',\n",
       " 'some',\n",
       " 'such',\n",
       " 'no',\n",
       " 'nor',\n",
       " 'not',\n",
       " 'only',\n",
       " 'own',\n",
       " 'same',\n",
       " 'so',\n",
       " 'than',\n",
       " 'too',\n",
       " 'very',\n",
       " 's',\n",
       " 't',\n",
       " 'can',\n",
       " 'will',\n",
       " 'just',\n",
       " 'don',\n",
       " \"don't\",\n",
       " 'should',\n",
       " \"should've\",\n",
       " 'now',\n",
       " 'd',\n",
       " 'll',\n",
       " 'm',\n",
       " 'o',\n",
       " 're',\n",
       " 've',\n",
       " 'y',\n",
       " 'ain',\n",
       " 'aren',\n",
       " \"aren't\",\n",
       " 'couldn',\n",
       " \"couldn't\",\n",
       " 'didn',\n",
       " \"didn't\",\n",
       " 'doesn',\n",
       " \"doesn't\",\n",
       " 'hadn',\n",
       " \"hadn't\",\n",
       " 'hasn',\n",
       " \"hasn't\",\n",
       " 'haven',\n",
       " \"haven't\",\n",
       " 'isn',\n",
       " \"isn't\",\n",
       " 'ma',\n",
       " 'mightn',\n",
       " \"mightn't\",\n",
       " 'mustn',\n",
       " \"mustn't\",\n",
       " 'needn',\n",
       " \"needn't\",\n",
       " 'shan',\n",
       " \"shan't\",\n",
       " 'shouldn',\n",
       " \"shouldn't\",\n",
       " 'wasn',\n",
       " \"wasn't\",\n",
       " 'weren',\n",
       " \"weren't\",\n",
       " 'won',\n",
       " \"won't\",\n",
       " 'wouldn',\n",
       " \"wouldn't\"]"
      ]
     },
     "execution_count": 28,
     "metadata": {},
     "output_type": "execute_result"
    }
   ],
   "source": [
    "stop_words"
   ]
  },
  {
   "cell_type": "code",
   "execution_count": 29,
   "id": "52f0ffcb",
   "metadata": {},
   "outputs": [
    {
     "data": {
      "text/plain": [
       "179"
      ]
     },
     "execution_count": 29,
     "metadata": {},
     "output_type": "execute_result"
    }
   ],
   "source": [
    "len(stop_words)"
   ]
  },
  {
   "cell_type": "code",
   "execution_count": 30,
   "id": "89b225a7",
   "metadata": {},
   "outputs": [],
   "source": [
    "df[\"text\"]=df[\"text\"].str.lower()"
   ]
  },
  {
   "cell_type": "code",
   "execution_count": 31,
   "id": "4dd110cd",
   "metadata": {},
   "outputs": [
    {
     "data": {
      "text/plain": [
       "0      neat comparison i have not heard it before.\\n ...\n",
       "1      an excellent way to visualise the invisible! t...\n",
       "2      does the co2/ghg in the troposphere affect the...\n",
       "3      excellent post! i defo feel the difference - o...\n",
       "4      yes, and carbon dioxide does not harm the eart...\n",
       "                             ...                        \n",
       "517                       one can only hope for a peak 😞\n",
       "518    what is the error margin for the temperature e...\n",
       "519    we all should volenteerly help in reducing glo...\n",
       "520                                         sergio yepes\n",
       "521    we're experiencing severe, abnormal weather pa...\n",
       "Name: text, Length: 522, dtype: object"
      ]
     },
     "execution_count": 31,
     "metadata": {},
     "output_type": "execute_result"
    }
   ],
   "source": [
    "df[\"text\"]"
   ]
  },
  {
   "cell_type": "code",
   "execution_count": 32,
   "id": "adf460f7",
   "metadata": {},
   "outputs": [],
   "source": [
    "ls=[]\n",
    "\n",
    "for i in df[\"text\"][0].split():\n",
    "    if i not in stop_words:\n",
    "        ls.append(i)"
   ]
  },
  {
   "cell_type": "code",
   "execution_count": 33,
   "id": "43fe9fb0",
   "metadata": {},
   "outputs": [
    {
     "data": {
      "text/plain": [
       "['neat',\n",
       " 'comparison',\n",
       " 'heard',\n",
       " 'before.',\n",
       " 'would',\n",
       " 'say',\n",
       " 'co2',\n",
       " 'like',\n",
       " 'disco',\n",
       " 'ball',\n",
       " 'energy',\n",
       " 'collide',\n",
       " 'countless',\n",
       " 'molecules',\n",
       " 'bounces',\n",
       " 'around',\n",
       " 'atmosphere.']"
      ]
     },
     "execution_count": 33,
     "metadata": {},
     "output_type": "execute_result"
    }
   ],
   "source": [
    "ls"
   ]
  },
  {
   "cell_type": "code",
   "execution_count": 34,
   "id": "b4640798",
   "metadata": {},
   "outputs": [
    {
     "data": {
      "text/plain": [
       "'neat comparison heard before. would say co2 like disco ball energy collide countless molecules bounces around atmosphere.'"
      ]
     },
     "execution_count": 34,
     "metadata": {},
     "output_type": "execute_result"
    }
   ],
   "source": [
    "\" \".join(ls)"
   ]
  },
  {
   "cell_type": "code",
   "execution_count": 35,
   "id": "df523b26",
   "metadata": {},
   "outputs": [],
   "source": [
    "def stop_word_clean(x):\n",
    "    return \" \".join([words for words in str(x).split() if words not in stop_words])"
   ]
  },
  {
   "cell_type": "code",
   "execution_count": 36,
   "id": "b44aa9ed",
   "metadata": {},
   "outputs": [],
   "source": [
    "df[\"text\"]=df[\"text\"].apply(lambda x: stop_word_clean(x))"
   ]
  },
  {
   "cell_type": "code",
   "execution_count": 37,
   "id": "62326838",
   "metadata": {},
   "outputs": [],
   "source": [
    "df[\"after_stop\"]=df[\"text\"].apply(len)"
   ]
  },
  {
   "cell_type": "code",
   "execution_count": 38,
   "id": "580f67a8",
   "metadata": {},
   "outputs": [
    {
     "data": {
      "text/html": [
       "<div>\n",
       "<style scoped>\n",
       "    .dataframe tbody tr th:only-of-type {\n",
       "        vertical-align: middle;\n",
       "    }\n",
       "\n",
       "    .dataframe tbody tr th {\n",
       "        vertical-align: top;\n",
       "    }\n",
       "\n",
       "    .dataframe thead th {\n",
       "        text-align: right;\n",
       "    }\n",
       "</style>\n",
       "<table border=\"1\" class=\"dataframe\">\n",
       "  <thead>\n",
       "    <tr style=\"text-align: right;\">\n",
       "      <th></th>\n",
       "      <th>likesCount</th>\n",
       "      <th>text</th>\n",
       "      <th>Date</th>\n",
       "      <th>Month</th>\n",
       "      <th>year</th>\n",
       "      <th>length</th>\n",
       "      <th>after_stop</th>\n",
       "    </tr>\n",
       "  </thead>\n",
       "  <tbody>\n",
       "    <tr>\n",
       "      <th>0</th>\n",
       "      <td>2</td>\n",
       "      <td>neat comparison heard before. would say co2 li...</td>\n",
       "      <td>7</td>\n",
       "      <td>9</td>\n",
       "      <td>2022</td>\n",
       "      <td>173</td>\n",
       "      <td>121</td>\n",
       "    </tr>\n",
       "    <tr>\n",
       "      <th>1</th>\n",
       "      <td>0</td>\n",
       "      <td>excellent way visualise invisible! thanks</td>\n",
       "      <td>8</td>\n",
       "      <td>9</td>\n",
       "      <td>2022</td>\n",
       "      <td>51</td>\n",
       "      <td>41</td>\n",
       "    </tr>\n",
       "    <tr>\n",
       "      <th>2</th>\n",
       "      <td>1</td>\n",
       "      <td>co2/ghg troposphere affect stratosphere? warme...</td>\n",
       "      <td>7</td>\n",
       "      <td>9</td>\n",
       "      <td>2022</td>\n",
       "      <td>108</td>\n",
       "      <td>75</td>\n",
       "    </tr>\n",
       "    <tr>\n",
       "      <th>3</th>\n",
       "      <td>4</td>\n",
       "      <td>excellent post! defo feel difference - one dri...</td>\n",
       "      <td>8</td>\n",
       "      <td>9</td>\n",
       "      <td>2022</td>\n",
       "      <td>94</td>\n",
       "      <td>65</td>\n",
       "    </tr>\n",
       "    <tr>\n",
       "      <th>4</th>\n",
       "      <td>16</td>\n",
       "      <td>yes, carbon dioxide harm earth like people mak...</td>\n",
       "      <td>7</td>\n",
       "      <td>9</td>\n",
       "      <td>2022</td>\n",
       "      <td>128</td>\n",
       "      <td>90</td>\n",
       "    </tr>\n",
       "  </tbody>\n",
       "</table>\n",
       "</div>"
      ],
      "text/plain": [
       "   likesCount                                               text  Date  Month  \\\n",
       "0           2  neat comparison heard before. would say co2 li...     7      9   \n",
       "1           0          excellent way visualise invisible! thanks     8      9   \n",
       "2           1  co2/ghg troposphere affect stratosphere? warme...     7      9   \n",
       "3           4  excellent post! defo feel difference - one dri...     8      9   \n",
       "4          16  yes, carbon dioxide harm earth like people mak...     7      9   \n",
       "\n",
       "   year  length  after_stop  \n",
       "0  2022     173         121  \n",
       "1  2022      51          41  \n",
       "2  2022     108          75  \n",
       "3  2022      94          65  \n",
       "4  2022     128          90  "
      ]
     },
     "execution_count": 38,
     "metadata": {},
     "output_type": "execute_result"
    }
   ],
   "source": [
    "df.head()"
   ]
  },
  {
   "cell_type": "code",
   "execution_count": 39,
   "id": "c8943e76",
   "metadata": {},
   "outputs": [],
   "source": [
    "def removal_url(text):\n",
    "    return re.sub('https?://(?:www\\.)?[\\w\\.-]+\\.[a-zA-Z]{2,}(?:/[\\w\\.-]*)*/?','',text)"
   ]
  },
  {
   "cell_type": "code",
   "execution_count": 40,
   "id": "1498238a",
   "metadata": {},
   "outputs": [],
   "source": [
    "df[\"text\"]=df[\"text\"].apply(lambda x: removal_url(x))"
   ]
  },
  {
   "cell_type": "code",
   "execution_count": 41,
   "id": "ddd6397e",
   "metadata": {},
   "outputs": [
    {
     "data": {
      "text/html": [
       "<div>\n",
       "<style scoped>\n",
       "    .dataframe tbody tr th:only-of-type {\n",
       "        vertical-align: middle;\n",
       "    }\n",
       "\n",
       "    .dataframe tbody tr th {\n",
       "        vertical-align: top;\n",
       "    }\n",
       "\n",
       "    .dataframe thead th {\n",
       "        text-align: right;\n",
       "    }\n",
       "</style>\n",
       "<table border=\"1\" class=\"dataframe\">\n",
       "  <thead>\n",
       "    <tr style=\"text-align: right;\">\n",
       "      <th></th>\n",
       "      <th>likesCount</th>\n",
       "      <th>text</th>\n",
       "      <th>Date</th>\n",
       "      <th>Month</th>\n",
       "      <th>year</th>\n",
       "      <th>length</th>\n",
       "      <th>after_stop</th>\n",
       "      <th>after_url</th>\n",
       "    </tr>\n",
       "  </thead>\n",
       "  <tbody>\n",
       "    <tr>\n",
       "      <th>0</th>\n",
       "      <td>2</td>\n",
       "      <td>neat comparison heard before. would say co2 li...</td>\n",
       "      <td>7</td>\n",
       "      <td>9</td>\n",
       "      <td>2022</td>\n",
       "      <td>173</td>\n",
       "      <td>121</td>\n",
       "      <td>121</td>\n",
       "    </tr>\n",
       "  </tbody>\n",
       "</table>\n",
       "</div>"
      ],
      "text/plain": [
       "   likesCount                                               text  Date  Month  \\\n",
       "0           2  neat comparison heard before. would say co2 li...     7      9   \n",
       "\n",
       "   year  length  after_stop  after_url  \n",
       "0  2022     173         121        121  "
      ]
     },
     "execution_count": 41,
     "metadata": {},
     "output_type": "execute_result"
    }
   ],
   "source": [
    "df[\"after_url\"]= df[\"text\"].apply(len)\n",
    "df.head(1)"
   ]
  },
  {
   "cell_type": "code",
   "execution_count": 42,
   "id": "43ae2803",
   "metadata": {},
   "outputs": [
    {
     "name": "stdout",
     "output_type": "stream",
     "text": [
      "5584\n"
     ]
    }
   ],
   "source": [
    "print(df[\"after_url\"].max())"
   ]
  },
  {
   "cell_type": "code",
   "execution_count": 43,
   "id": "a5bd1277",
   "metadata": {},
   "outputs": [],
   "source": [
    "def removal_username(text):\n",
    "    return re.sub('@[^\\s]+','',text)"
   ]
  },
  {
   "cell_type": "code",
   "execution_count": 44,
   "id": "e8b1fdc2",
   "metadata": {},
   "outputs": [],
   "source": [
    "df[\"text\"]=df[\"text\"].apply(lambda x: removal_username(x))"
   ]
  },
  {
   "cell_type": "code",
   "execution_count": 45,
   "id": "106f5d25",
   "metadata": {},
   "outputs": [
    {
     "data": {
      "text/html": [
       "<div>\n",
       "<style scoped>\n",
       "    .dataframe tbody tr th:only-of-type {\n",
       "        vertical-align: middle;\n",
       "    }\n",
       "\n",
       "    .dataframe tbody tr th {\n",
       "        vertical-align: top;\n",
       "    }\n",
       "\n",
       "    .dataframe thead th {\n",
       "        text-align: right;\n",
       "    }\n",
       "</style>\n",
       "<table border=\"1\" class=\"dataframe\">\n",
       "  <thead>\n",
       "    <tr style=\"text-align: right;\">\n",
       "      <th></th>\n",
       "      <th>likesCount</th>\n",
       "      <th>text</th>\n",
       "      <th>Date</th>\n",
       "      <th>Month</th>\n",
       "      <th>year</th>\n",
       "      <th>length</th>\n",
       "      <th>after_stop</th>\n",
       "      <th>after_url</th>\n",
       "      <th>after_username</th>\n",
       "    </tr>\n",
       "  </thead>\n",
       "  <tbody>\n",
       "    <tr>\n",
       "      <th>0</th>\n",
       "      <td>2</td>\n",
       "      <td>neat comparison heard before. would say co2 li...</td>\n",
       "      <td>7</td>\n",
       "      <td>9</td>\n",
       "      <td>2022</td>\n",
       "      <td>173</td>\n",
       "      <td>121</td>\n",
       "      <td>121</td>\n",
       "      <td>121</td>\n",
       "    </tr>\n",
       "  </tbody>\n",
       "</table>\n",
       "</div>"
      ],
      "text/plain": [
       "   likesCount                                               text  Date  Month  \\\n",
       "0           2  neat comparison heard before. would say co2 li...     7      9   \n",
       "\n",
       "   year  length  after_stop  after_url  after_username  \n",
       "0  2022     173         121        121             121  "
      ]
     },
     "execution_count": 45,
     "metadata": {},
     "output_type": "execute_result"
    }
   ],
   "source": [
    "df[\"after_username\"]= df[\"text\"].apply(len)\n",
    "df.head(1)"
   ]
  },
  {
   "cell_type": "code",
   "execution_count": 46,
   "id": "4d9d7a63",
   "metadata": {},
   "outputs": [],
   "source": [
    "def removal_number(text):\n",
    "    return re.sub('[0-9]+','',text)"
   ]
  },
  {
   "cell_type": "code",
   "execution_count": 47,
   "id": "972fdcb2",
   "metadata": {},
   "outputs": [],
   "source": [
    "df[\"text\"]=df[\"text\"].apply(lambda x: removal_number(x))"
   ]
  },
  {
   "cell_type": "code",
   "execution_count": 48,
   "id": "02448efe",
   "metadata": {},
   "outputs": [],
   "source": [
    "df[\"after_number\"]= df[\"text\"].apply(len)"
   ]
  },
  {
   "cell_type": "code",
   "execution_count": 49,
   "id": "abc8fd47",
   "metadata": {},
   "outputs": [
    {
     "data": {
      "text/html": [
       "<div>\n",
       "<style scoped>\n",
       "    .dataframe tbody tr th:only-of-type {\n",
       "        vertical-align: middle;\n",
       "    }\n",
       "\n",
       "    .dataframe tbody tr th {\n",
       "        vertical-align: top;\n",
       "    }\n",
       "\n",
       "    .dataframe thead th {\n",
       "        text-align: right;\n",
       "    }\n",
       "</style>\n",
       "<table border=\"1\" class=\"dataframe\">\n",
       "  <thead>\n",
       "    <tr style=\"text-align: right;\">\n",
       "      <th></th>\n",
       "      <th>likesCount</th>\n",
       "      <th>text</th>\n",
       "      <th>Date</th>\n",
       "      <th>Month</th>\n",
       "      <th>year</th>\n",
       "      <th>length</th>\n",
       "      <th>after_stop</th>\n",
       "      <th>after_url</th>\n",
       "      <th>after_username</th>\n",
       "      <th>after_number</th>\n",
       "    </tr>\n",
       "  </thead>\n",
       "  <tbody>\n",
       "    <tr>\n",
       "      <th>0</th>\n",
       "      <td>2</td>\n",
       "      <td>neat comparison heard before. would say co lik...</td>\n",
       "      <td>7</td>\n",
       "      <td>9</td>\n",
       "      <td>2022</td>\n",
       "      <td>173</td>\n",
       "      <td>121</td>\n",
       "      <td>121</td>\n",
       "      <td>121</td>\n",
       "      <td>120</td>\n",
       "    </tr>\n",
       "    <tr>\n",
       "      <th>1</th>\n",
       "      <td>0</td>\n",
       "      <td>excellent way visualise invisible! thanks</td>\n",
       "      <td>8</td>\n",
       "      <td>9</td>\n",
       "      <td>2022</td>\n",
       "      <td>51</td>\n",
       "      <td>41</td>\n",
       "      <td>41</td>\n",
       "      <td>41</td>\n",
       "      <td>41</td>\n",
       "    </tr>\n",
       "    <tr>\n",
       "      <th>2</th>\n",
       "      <td>1</td>\n",
       "      <td>co/ghg troposphere affect stratosphere? warmer...</td>\n",
       "      <td>7</td>\n",
       "      <td>9</td>\n",
       "      <td>2022</td>\n",
       "      <td>108</td>\n",
       "      <td>75</td>\n",
       "      <td>75</td>\n",
       "      <td>75</td>\n",
       "      <td>74</td>\n",
       "    </tr>\n",
       "    <tr>\n",
       "      <th>3</th>\n",
       "      <td>4</td>\n",
       "      <td>excellent post! defo feel difference - one dri...</td>\n",
       "      <td>8</td>\n",
       "      <td>9</td>\n",
       "      <td>2022</td>\n",
       "      <td>94</td>\n",
       "      <td>65</td>\n",
       "      <td>65</td>\n",
       "      <td>65</td>\n",
       "      <td>65</td>\n",
       "    </tr>\n",
       "    <tr>\n",
       "      <th>4</th>\n",
       "      <td>16</td>\n",
       "      <td>yes, carbon dioxide harm earth like people mak...</td>\n",
       "      <td>7</td>\n",
       "      <td>9</td>\n",
       "      <td>2022</td>\n",
       "      <td>128</td>\n",
       "      <td>90</td>\n",
       "      <td>90</td>\n",
       "      <td>90</td>\n",
       "      <td>90</td>\n",
       "    </tr>\n",
       "  </tbody>\n",
       "</table>\n",
       "</div>"
      ],
      "text/plain": [
       "   likesCount                                               text  Date  Month  \\\n",
       "0           2  neat comparison heard before. would say co lik...     7      9   \n",
       "1           0          excellent way visualise invisible! thanks     8      9   \n",
       "2           1  co/ghg troposphere affect stratosphere? warmer...     7      9   \n",
       "3           4  excellent post! defo feel difference - one dri...     8      9   \n",
       "4          16  yes, carbon dioxide harm earth like people mak...     7      9   \n",
       "\n",
       "   year  length  after_stop  after_url  after_username  after_number  \n",
       "0  2022     173         121        121             121           120  \n",
       "1  2022      51          41         41              41            41  \n",
       "2  2022     108          75         75              75            74  \n",
       "3  2022      94          65         65              65            65  \n",
       "4  2022     128          90         90              90            90  "
      ]
     },
     "execution_count": 49,
     "metadata": {},
     "output_type": "execute_result"
    }
   ],
   "source": [
    "df.head()"
   ]
  },
  {
   "cell_type": "code",
   "execution_count": 50,
   "id": "aa8d3779",
   "metadata": {},
   "outputs": [],
   "source": [
    "def removal_extraspace(text):\n",
    "    return re.sub('\\s+',' ',text)"
   ]
  },
  {
   "cell_type": "code",
   "execution_count": 51,
   "id": "70b7d6f9",
   "metadata": {},
   "outputs": [
    {
     "data": {
      "text/html": [
       "<div>\n",
       "<style scoped>\n",
       "    .dataframe tbody tr th:only-of-type {\n",
       "        vertical-align: middle;\n",
       "    }\n",
       "\n",
       "    .dataframe tbody tr th {\n",
       "        vertical-align: top;\n",
       "    }\n",
       "\n",
       "    .dataframe thead th {\n",
       "        text-align: right;\n",
       "    }\n",
       "</style>\n",
       "<table border=\"1\" class=\"dataframe\">\n",
       "  <thead>\n",
       "    <tr style=\"text-align: right;\">\n",
       "      <th></th>\n",
       "      <th>likesCount</th>\n",
       "      <th>text</th>\n",
       "      <th>Date</th>\n",
       "      <th>Month</th>\n",
       "      <th>year</th>\n",
       "      <th>length</th>\n",
       "      <th>after_stop</th>\n",
       "      <th>after_url</th>\n",
       "      <th>after_username</th>\n",
       "      <th>after_number</th>\n",
       "      <th>after_white_space</th>\n",
       "    </tr>\n",
       "  </thead>\n",
       "  <tbody>\n",
       "    <tr>\n",
       "      <th>0</th>\n",
       "      <td>2</td>\n",
       "      <td>neat comparison heard before. would say co lik...</td>\n",
       "      <td>7</td>\n",
       "      <td>9</td>\n",
       "      <td>2022</td>\n",
       "      <td>173</td>\n",
       "      <td>121</td>\n",
       "      <td>121</td>\n",
       "      <td>121</td>\n",
       "      <td>120</td>\n",
       "      <td>120</td>\n",
       "    </tr>\n",
       "    <tr>\n",
       "      <th>1</th>\n",
       "      <td>0</td>\n",
       "      <td>excellent way visualise invisible! thanks</td>\n",
       "      <td>8</td>\n",
       "      <td>9</td>\n",
       "      <td>2022</td>\n",
       "      <td>51</td>\n",
       "      <td>41</td>\n",
       "      <td>41</td>\n",
       "      <td>41</td>\n",
       "      <td>41</td>\n",
       "      <td>41</td>\n",
       "    </tr>\n",
       "  </tbody>\n",
       "</table>\n",
       "</div>"
      ],
      "text/plain": [
       "   likesCount                                               text  Date  Month  \\\n",
       "0           2  neat comparison heard before. would say co lik...     7      9   \n",
       "1           0          excellent way visualise invisible! thanks     8      9   \n",
       "\n",
       "   year  length  after_stop  after_url  after_username  after_number  \\\n",
       "0  2022     173         121        121             121           120   \n",
       "1  2022      51          41         41              41            41   \n",
       "\n",
       "   after_white_space  \n",
       "0                120  \n",
       "1                 41  "
      ]
     },
     "execution_count": 51,
     "metadata": {},
     "output_type": "execute_result"
    }
   ],
   "source": [
    "df[\"text\"]=df[\"text\"].apply(lambda x: removal_extraspace(x))\n",
    "df[\"after_white_space\"]= df[\"text\"].apply(len)\n",
    "df.head(2)"
   ]
  },
  {
   "cell_type": "code",
   "execution_count": 52,
   "id": "76bbc372",
   "metadata": {},
   "outputs": [],
   "source": [
    "def deEmojify(inputString):\n",
    "    return inputString.encode('ascii', 'ignore').decode('ascii')"
   ]
  },
  {
   "cell_type": "code",
   "execution_count": 53,
   "id": "d337acc6",
   "metadata": {},
   "outputs": [
    {
     "data": {
      "text/html": [
       "<div>\n",
       "<style scoped>\n",
       "    .dataframe tbody tr th:only-of-type {\n",
       "        vertical-align: middle;\n",
       "    }\n",
       "\n",
       "    .dataframe tbody tr th {\n",
       "        vertical-align: top;\n",
       "    }\n",
       "\n",
       "    .dataframe thead th {\n",
       "        text-align: right;\n",
       "    }\n",
       "</style>\n",
       "<table border=\"1\" class=\"dataframe\">\n",
       "  <thead>\n",
       "    <tr style=\"text-align: right;\">\n",
       "      <th></th>\n",
       "      <th>likesCount</th>\n",
       "      <th>text</th>\n",
       "      <th>Date</th>\n",
       "      <th>Month</th>\n",
       "      <th>year</th>\n",
       "      <th>length</th>\n",
       "      <th>after_stop</th>\n",
       "      <th>after_url</th>\n",
       "      <th>after_username</th>\n",
       "      <th>after_number</th>\n",
       "      <th>after_white_space</th>\n",
       "      <th>after_deEmojify</th>\n",
       "    </tr>\n",
       "  </thead>\n",
       "  <tbody>\n",
       "    <tr>\n",
       "      <th>0</th>\n",
       "      <td>2</td>\n",
       "      <td>neat comparison heard before. would say co lik...</td>\n",
       "      <td>7</td>\n",
       "      <td>9</td>\n",
       "      <td>2022</td>\n",
       "      <td>173</td>\n",
       "      <td>121</td>\n",
       "      <td>121</td>\n",
       "      <td>121</td>\n",
       "      <td>120</td>\n",
       "      <td>120</td>\n",
       "      <td>120</td>\n",
       "    </tr>\n",
       "    <tr>\n",
       "      <th>1</th>\n",
       "      <td>0</td>\n",
       "      <td>excellent way visualise invisible! thanks</td>\n",
       "      <td>8</td>\n",
       "      <td>9</td>\n",
       "      <td>2022</td>\n",
       "      <td>51</td>\n",
       "      <td>41</td>\n",
       "      <td>41</td>\n",
       "      <td>41</td>\n",
       "      <td>41</td>\n",
       "      <td>41</td>\n",
       "      <td>41</td>\n",
       "    </tr>\n",
       "  </tbody>\n",
       "</table>\n",
       "</div>"
      ],
      "text/plain": [
       "   likesCount                                               text  Date  Month  \\\n",
       "0           2  neat comparison heard before. would say co lik...     7      9   \n",
       "1           0          excellent way visualise invisible! thanks     8      9   \n",
       "\n",
       "   year  length  after_stop  after_url  after_username  after_number  \\\n",
       "0  2022     173         121        121             121           120   \n",
       "1  2022      51          41         41              41            41   \n",
       "\n",
       "   after_white_space  after_deEmojify  \n",
       "0                120              120  \n",
       "1                 41               41  "
      ]
     },
     "execution_count": 53,
     "metadata": {},
     "output_type": "execute_result"
    }
   ],
   "source": [
    "df[\"text\"]=df[\"text\"].apply(lambda x: deEmojify(x))\n",
    "df[\"after_deEmojify\"]= df[\"text\"].apply(len)\n",
    "df.head(2)"
   ]
  },
  {
   "cell_type": "code",
   "execution_count": 54,
   "id": "17c63491",
   "metadata": {},
   "outputs": [
    {
     "name": "stdout",
     "output_type": "stream",
     "text": [
      "5266\n",
      "5249\n"
     ]
    }
   ],
   "source": [
    "print(df[\"after_white_space\"].max())\n",
    "print(df[\"after_deEmojify\"].max())"
   ]
  },
  {
   "cell_type": "code",
   "execution_count": 55,
   "id": "20318f1f",
   "metadata": {},
   "outputs": [],
   "source": [
    "def removal_xhtml(text):\n",
    "    pattern= re.compile(r\"quot\")\n",
    "    return re.sub(pattern,\"\",text)"
   ]
  },
  {
   "cell_type": "code",
   "execution_count": 56,
   "id": "5bc03cc4",
   "metadata": {},
   "outputs": [
    {
     "data": {
      "text/html": [
       "<div>\n",
       "<style scoped>\n",
       "    .dataframe tbody tr th:only-of-type {\n",
       "        vertical-align: middle;\n",
       "    }\n",
       "\n",
       "    .dataframe tbody tr th {\n",
       "        vertical-align: top;\n",
       "    }\n",
       "\n",
       "    .dataframe thead th {\n",
       "        text-align: right;\n",
       "    }\n",
       "</style>\n",
       "<table border=\"1\" class=\"dataframe\">\n",
       "  <thead>\n",
       "    <tr style=\"text-align: right;\">\n",
       "      <th></th>\n",
       "      <th>likesCount</th>\n",
       "      <th>text</th>\n",
       "      <th>Date</th>\n",
       "      <th>Month</th>\n",
       "      <th>year</th>\n",
       "      <th>length</th>\n",
       "      <th>after_stop</th>\n",
       "      <th>after_url</th>\n",
       "      <th>after_username</th>\n",
       "      <th>after_number</th>\n",
       "      <th>after_white_space</th>\n",
       "      <th>after_deEmojify</th>\n",
       "      <th>after_removal_xhtml</th>\n",
       "    </tr>\n",
       "  </thead>\n",
       "  <tbody>\n",
       "    <tr>\n",
       "      <th>0</th>\n",
       "      <td>2</td>\n",
       "      <td>neat comparison heard before. would say co lik...</td>\n",
       "      <td>7</td>\n",
       "      <td>9</td>\n",
       "      <td>2022</td>\n",
       "      <td>173</td>\n",
       "      <td>121</td>\n",
       "      <td>121</td>\n",
       "      <td>121</td>\n",
       "      <td>120</td>\n",
       "      <td>120</td>\n",
       "      <td>120</td>\n",
       "      <td>120</td>\n",
       "    </tr>\n",
       "    <tr>\n",
       "      <th>1</th>\n",
       "      <td>0</td>\n",
       "      <td>excellent way visualise invisible! thanks</td>\n",
       "      <td>8</td>\n",
       "      <td>9</td>\n",
       "      <td>2022</td>\n",
       "      <td>51</td>\n",
       "      <td>41</td>\n",
       "      <td>41</td>\n",
       "      <td>41</td>\n",
       "      <td>41</td>\n",
       "      <td>41</td>\n",
       "      <td>41</td>\n",
       "      <td>41</td>\n",
       "    </tr>\n",
       "  </tbody>\n",
       "</table>\n",
       "</div>"
      ],
      "text/plain": [
       "   likesCount                                               text  Date  Month  \\\n",
       "0           2  neat comparison heard before. would say co lik...     7      9   \n",
       "1           0          excellent way visualise invisible! thanks     8      9   \n",
       "\n",
       "   year  length  after_stop  after_url  after_username  after_number  \\\n",
       "0  2022     173         121        121             121           120   \n",
       "1  2022      51          41         41              41            41   \n",
       "\n",
       "   after_white_space  after_deEmojify  after_removal_xhtml  \n",
       "0                120              120                  120  \n",
       "1                 41               41                   41  "
      ]
     },
     "execution_count": 56,
     "metadata": {},
     "output_type": "execute_result"
    }
   ],
   "source": [
    "df[\"text\"]=df[\"text\"].apply(lambda x: removal_xhtml(x))\n",
    "df[\"after_removal_xhtml\"]= df[\"text\"].apply(len)\n",
    "df.head(2)"
   ]
  },
  {
   "cell_type": "code",
   "execution_count": 57,
   "id": "3913d32b",
   "metadata": {},
   "outputs": [
    {
     "data": {
      "text/plain": [
       "'!\"#$%&\\'()*+,-./:;<=>?@[\\\\]^_`{|}~'"
      ]
     },
     "execution_count": 57,
     "metadata": {},
     "output_type": "execute_result"
    }
   ],
   "source": [
    "import string\n",
    "punc=string.punctuation\n",
    "punc"
   ]
  },
  {
   "cell_type": "code",
   "execution_count": 58,
   "id": "a816d6e9",
   "metadata": {},
   "outputs": [],
   "source": [
    "def removal_punc(text):\n",
    "    trans=str.maketrans('','',punc)\n",
    "    return text.translate(trans)"
   ]
  },
  {
   "cell_type": "code",
   "execution_count": 59,
   "id": "b8812874",
   "metadata": {},
   "outputs": [
    {
     "data": {
      "text/html": [
       "<div>\n",
       "<style scoped>\n",
       "    .dataframe tbody tr th:only-of-type {\n",
       "        vertical-align: middle;\n",
       "    }\n",
       "\n",
       "    .dataframe tbody tr th {\n",
       "        vertical-align: top;\n",
       "    }\n",
       "\n",
       "    .dataframe thead th {\n",
       "        text-align: right;\n",
       "    }\n",
       "</style>\n",
       "<table border=\"1\" class=\"dataframe\">\n",
       "  <thead>\n",
       "    <tr style=\"text-align: right;\">\n",
       "      <th></th>\n",
       "      <th>likesCount</th>\n",
       "      <th>text</th>\n",
       "      <th>Date</th>\n",
       "      <th>Month</th>\n",
       "      <th>year</th>\n",
       "      <th>length</th>\n",
       "      <th>after_stop</th>\n",
       "      <th>after_url</th>\n",
       "      <th>after_username</th>\n",
       "      <th>after_number</th>\n",
       "      <th>after_white_space</th>\n",
       "      <th>after_deEmojify</th>\n",
       "      <th>after_removal_xhtml</th>\n",
       "      <th>after_punctuation</th>\n",
       "    </tr>\n",
       "  </thead>\n",
       "  <tbody>\n",
       "    <tr>\n",
       "      <th>0</th>\n",
       "      <td>2</td>\n",
       "      <td>neat comparison heard before would say co like...</td>\n",
       "      <td>7</td>\n",
       "      <td>9</td>\n",
       "      <td>2022</td>\n",
       "      <td>173</td>\n",
       "      <td>121</td>\n",
       "      <td>121</td>\n",
       "      <td>121</td>\n",
       "      <td>120</td>\n",
       "      <td>120</td>\n",
       "      <td>120</td>\n",
       "      <td>120</td>\n",
       "      <td>118</td>\n",
       "    </tr>\n",
       "    <tr>\n",
       "      <th>1</th>\n",
       "      <td>0</td>\n",
       "      <td>excellent way visualise invisible thanks</td>\n",
       "      <td>8</td>\n",
       "      <td>9</td>\n",
       "      <td>2022</td>\n",
       "      <td>51</td>\n",
       "      <td>41</td>\n",
       "      <td>41</td>\n",
       "      <td>41</td>\n",
       "      <td>41</td>\n",
       "      <td>41</td>\n",
       "      <td>41</td>\n",
       "      <td>41</td>\n",
       "      <td>40</td>\n",
       "    </tr>\n",
       "  </tbody>\n",
       "</table>\n",
       "</div>"
      ],
      "text/plain": [
       "   likesCount                                               text  Date  Month  \\\n",
       "0           2  neat comparison heard before would say co like...     7      9   \n",
       "1           0           excellent way visualise invisible thanks     8      9   \n",
       "\n",
       "   year  length  after_stop  after_url  after_username  after_number  \\\n",
       "0  2022     173         121        121             121           120   \n",
       "1  2022      51          41         41              41            41   \n",
       "\n",
       "   after_white_space  after_deEmojify  after_removal_xhtml  after_punctuation  \n",
       "0                120              120                  120                118  \n",
       "1                 41               41                   41                 40  "
      ]
     },
     "execution_count": 59,
     "metadata": {},
     "output_type": "execute_result"
    }
   ],
   "source": [
    "df[\"text\"]=df[\"text\"].apply(lambda x: removal_punc(x))\n",
    "df[\"after_punctuation\"]= df[\"text\"].apply(len)\n",
    "df.head(2)"
   ]
  },
  {
   "cell_type": "code",
   "execution_count": 60,
   "id": "42aeb669",
   "metadata": {},
   "outputs": [
    {
     "data": {
      "text/plain": [
       "5007"
      ]
     },
     "execution_count": 60,
     "metadata": {},
     "output_type": "execute_result"
    }
   ],
   "source": [
    "df[\"after_punctuation\"].max()"
   ]
  },
  {
   "cell_type": "code",
   "execution_count": 61,
   "id": "03b72ae2",
   "metadata": {},
   "outputs": [
    {
     "data": {
      "text/plain": [
       "'greenhouse effect concerned infrared radiation given earth suns radiation basically passes oxygen nitrogen earths atmosphere lands earths surface  absorbed  reflected back atmosphere part radiation bounces greenhouse gases returns absorbed earth greenhouses gases ghgs water vapor ho carbon dioxide co nitrous oxide no methane ch long co remain atmosphere difficult question several processes remove carbon dioxide atmosphere   co released air dissolves ocean period  years rest removed several hundred thousand years according ipcc fourth assessment report  co increase removed atmosphere within years another  removed within centuries remaining  may stay atmosphere thousands years means could stop carbon dioxide emissions tomorrow carbon dioxide atmosphere would continue warm climate thousands years methane ch contrast persists years thus even though methane times potent carbon dioxide effect relatively shortlived furthermore methane increased ppb ppb today notice parts per billion parts per million emissions carbon dioxide atmosphere causing global warming much earth warm year  depends upon many billions tons carbon dioxide emitted atmosphere general rule trillion tons additional carbon dioxide atmosphere actually billion translate ppm additional carbon dioxide also ppm additional carbon dioxide translates  f  c global warming verified fact preindustrial carbon dioxide ppm ppm period planet warmed c scientists measured amount atmospheric carbon dioxide corresponds ppm found corresponds  billion metric tons co atmosphere therefore order increase global temperature c would need x  billion billion metric tons carbon dioxide metric ton equals  kilograms or  x    pounds us country world use metric ton  world pumped  billion metric tons or  us gt carbon dioxide atmosphere average per capita emission carbon dioxide metric tons per person per year year  billion people therefore  businessasusual scenario expect world emit x billion metric tons atmosphere per year average  billion tons next years ie accumulation  trillion tons co  less   tt due carbon sinks the oceans almost saturated co world accumulation tt    carbon atmosphere dividing  trillion tons co million   c  f means world  f warmer  rise sea level comes two distinct processes water expansions  feet due added  f increased temperature melting ice mainly greenland  feet antarctica  feet  total feet  well increased extraction groundwater due irrigation although usually notice it water expands slightly gets warmer second potentially greater contribution rising sea level comes melting glacial ice antarctica  ice greenland  ice  trillion tons ice remaining  tied continental glaciers except himalayas melt  greenland completely melts raise sea level feet  meters antarctica completely melts add feet or meters sea level rise year  predict fossil fuels almost depleted coal may last  temperature rise level off model predicts greenland losing gt ice per year end century resulting  feet sea level rise  addition antarctica add another  feet sea level rise adding  feet thermal warming results sea level rise  feet add feet due melting west antarctic ice sheet wais due collapse pine island thwaites glaciers  foot sea level rise end century noaa the national oceanic atmospheric administration states oceans could rise feet worsecase scenario namely complete collapse wais effect would  foot sea level rise us miami one vulnerable places rising seas million americans would see homes permanently flooded sea levels rise feet sea level rises feet million americans would see homes permanently flooded new study predicts many  million americans coastal areas relocate sea level rises  feet  meters expect likely scenario addition sealevel rise global warming contributing increases spread insectborne illnesses cropdamaging pests example diseases zika dengue fever chikungunya transmitted mosquitoes pick diseases biting infected people spreading people subsequent bites research shown warmer temperatures shorten incubation period means disease spread rapidly warmer temperatures also tend increase geographic range insects global warming also translates extreme weather events higher temperatures mean increase energy atmosphere oceans energy drives weather cannot attribute particular storm global warming tie overall trend global warming makes logical sense warm ocean waters give birth intense weather generally hurricanes cannot survive long sea surfaces cooler f  c longer ocean waters stay f opportunity hurricane blossom lastly global warming result droughts floods water scarcity demand water tripled past years currently half billion people live waterstressed country  number expected increase billion vast majority fresh water  used agriculture us east coast much water supply comes surface water whereas midwest gets water supply combination surface waters well water well water comes underground aquifers ogallala aquifer present rates withdrawal parts ogallala aquifer water available irrigation another years'"
      ]
     },
     "execution_count": 61,
     "metadata": {},
     "output_type": "execute_result"
    }
   ],
   "source": [
    "df[df[\"after_punctuation\"]==5007]['text'].iloc[0]"
   ]
  },
  {
   "cell_type": "code",
   "execution_count": 62,
   "id": "c0d32503",
   "metadata": {},
   "outputs": [
    {
     "data": {
      "text/plain": [
       "likesCount             0\n",
       "text                   0\n",
       "Date                   0\n",
       "Month                  0\n",
       "year                   0\n",
       "length                 0\n",
       "after_stop             0\n",
       "after_url              0\n",
       "after_username         0\n",
       "after_number           0\n",
       "after_white_space      0\n",
       "after_deEmojify        0\n",
       "after_removal_xhtml    0\n",
       "after_punctuation      0\n",
       "dtype: int64"
      ]
     },
     "execution_count": 62,
     "metadata": {},
     "output_type": "execute_result"
    }
   ],
   "source": [
    "df.isna().sum()"
   ]
  },
  {
   "cell_type": "code",
   "execution_count": 63,
   "id": "38f0810e",
   "metadata": {},
   "outputs": [
    {
     "data": {
      "text/plain": [
       "0"
      ]
     },
     "execution_count": 63,
     "metadata": {},
     "output_type": "execute_result"
    }
   ],
   "source": [
    "df[\"after_punctuation\"].min()"
   ]
  },
  {
   "cell_type": "code",
   "execution_count": 64,
   "id": "c64b79b5",
   "metadata": {},
   "outputs": [
    {
     "data": {
      "text/plain": [
       "10"
      ]
     },
     "execution_count": 64,
     "metadata": {},
     "output_type": "execute_result"
    }
   ],
   "source": [
    "df.duplicated().sum()"
   ]
  },
  {
   "cell_type": "code",
   "execution_count": 65,
   "id": "e34e5b2f",
   "metadata": {},
   "outputs": [],
   "source": [
    "df.drop_duplicates(inplace=True)"
   ]
  },
  {
   "cell_type": "code",
   "execution_count": 66,
   "id": "8c772bf7",
   "metadata": {},
   "outputs": [
    {
     "data": {
      "text/plain": [
       "0"
      ]
     },
     "execution_count": 66,
     "metadata": {},
     "output_type": "execute_result"
    }
   ],
   "source": [
    "df.duplicated().sum()"
   ]
  },
  {
   "cell_type": "code",
   "execution_count": 67,
   "id": "de98271a",
   "metadata": {},
   "outputs": [
    {
     "data": {
      "text/html": [
       "<div>\n",
       "<style scoped>\n",
       "    .dataframe tbody tr th:only-of-type {\n",
       "        vertical-align: middle;\n",
       "    }\n",
       "\n",
       "    .dataframe tbody tr th {\n",
       "        vertical-align: top;\n",
       "    }\n",
       "\n",
       "    .dataframe thead th {\n",
       "        text-align: right;\n",
       "    }\n",
       "</style>\n",
       "<table border=\"1\" class=\"dataframe\">\n",
       "  <thead>\n",
       "    <tr style=\"text-align: right;\">\n",
       "      <th></th>\n",
       "      <th>likesCount</th>\n",
       "      <th>text</th>\n",
       "      <th>Date</th>\n",
       "      <th>Month</th>\n",
       "      <th>year</th>\n",
       "      <th>length</th>\n",
       "      <th>after_stop</th>\n",
       "      <th>after_url</th>\n",
       "      <th>after_username</th>\n",
       "      <th>after_number</th>\n",
       "      <th>after_white_space</th>\n",
       "      <th>after_deEmojify</th>\n",
       "      <th>after_removal_xhtml</th>\n",
       "      <th>after_punctuation</th>\n",
       "    </tr>\n",
       "  </thead>\n",
       "  <tbody>\n",
       "    <tr>\n",
       "      <th>0</th>\n",
       "      <td>2</td>\n",
       "      <td>neat comparison heard before would say co like...</td>\n",
       "      <td>7</td>\n",
       "      <td>9</td>\n",
       "      <td>2022</td>\n",
       "      <td>173</td>\n",
       "      <td>121</td>\n",
       "      <td>121</td>\n",
       "      <td>121</td>\n",
       "      <td>120</td>\n",
       "      <td>120</td>\n",
       "      <td>120</td>\n",
       "      <td>120</td>\n",
       "      <td>118</td>\n",
       "    </tr>\n",
       "    <tr>\n",
       "      <th>1</th>\n",
       "      <td>0</td>\n",
       "      <td>excellent way visualise invisible thanks</td>\n",
       "      <td>8</td>\n",
       "      <td>9</td>\n",
       "      <td>2022</td>\n",
       "      <td>51</td>\n",
       "      <td>41</td>\n",
       "      <td>41</td>\n",
       "      <td>41</td>\n",
       "      <td>41</td>\n",
       "      <td>41</td>\n",
       "      <td>41</td>\n",
       "      <td>41</td>\n",
       "      <td>40</td>\n",
       "    </tr>\n",
       "    <tr>\n",
       "      <th>2</th>\n",
       "      <td>1</td>\n",
       "      <td>coghg troposphere affect stratosphere warmer t...</td>\n",
       "      <td>7</td>\n",
       "      <td>9</td>\n",
       "      <td>2022</td>\n",
       "      <td>108</td>\n",
       "      <td>75</td>\n",
       "      <td>75</td>\n",
       "      <td>75</td>\n",
       "      <td>74</td>\n",
       "      <td>74</td>\n",
       "      <td>74</td>\n",
       "      <td>74</td>\n",
       "      <td>71</td>\n",
       "    </tr>\n",
       "    <tr>\n",
       "      <th>3</th>\n",
       "      <td>4</td>\n",
       "      <td>excellent post defo feel difference  one drink...</td>\n",
       "      <td>8</td>\n",
       "      <td>9</td>\n",
       "      <td>2022</td>\n",
       "      <td>94</td>\n",
       "      <td>65</td>\n",
       "      <td>65</td>\n",
       "      <td>65</td>\n",
       "      <td>65</td>\n",
       "      <td>65</td>\n",
       "      <td>65</td>\n",
       "      <td>65</td>\n",
       "      <td>62</td>\n",
       "    </tr>\n",
       "    <tr>\n",
       "      <th>4</th>\n",
       "      <td>16</td>\n",
       "      <td>yes carbon dioxide harm earth like people maki...</td>\n",
       "      <td>7</td>\n",
       "      <td>9</td>\n",
       "      <td>2022</td>\n",
       "      <td>128</td>\n",
       "      <td>90</td>\n",
       "      <td>90</td>\n",
       "      <td>90</td>\n",
       "      <td>90</td>\n",
       "      <td>90</td>\n",
       "      <td>90</td>\n",
       "      <td>90</td>\n",
       "      <td>86</td>\n",
       "    </tr>\n",
       "  </tbody>\n",
       "</table>\n",
       "</div>"
      ],
      "text/plain": [
       "   likesCount                                               text  Date  Month  \\\n",
       "0           2  neat comparison heard before would say co like...     7      9   \n",
       "1           0           excellent way visualise invisible thanks     8      9   \n",
       "2           1  coghg troposphere affect stratosphere warmer t...     7      9   \n",
       "3           4  excellent post defo feel difference  one drink...     8      9   \n",
       "4          16  yes carbon dioxide harm earth like people maki...     7      9   \n",
       "\n",
       "   year  length  after_stop  after_url  after_username  after_number  \\\n",
       "0  2022     173         121        121             121           120   \n",
       "1  2022      51          41         41              41            41   \n",
       "2  2022     108          75         75              75            74   \n",
       "3  2022      94          65         65              65            65   \n",
       "4  2022     128          90         90              90            90   \n",
       "\n",
       "   after_white_space  after_deEmojify  after_removal_xhtml  after_punctuation  \n",
       "0                120              120                  120                118  \n",
       "1                 41               41                   41                 40  \n",
       "2                 74               74                   74                 71  \n",
       "3                 65               65                   65                 62  \n",
       "4                 90               90                   90                 86  "
      ]
     },
     "execution_count": 67,
     "metadata": {},
     "output_type": "execute_result"
    }
   ],
   "source": [
    "df.head(5)"
   ]
  },
  {
   "cell_type": "code",
   "execution_count": 68,
   "id": "7ab97765",
   "metadata": {},
   "outputs": [],
   "source": [
    "drop_index=df[df[\"after_punctuation\"]==df[\"after_punctuation\"].min()][[\"text\"]].index"
   ]
  },
  {
   "cell_type": "code",
   "execution_count": 69,
   "id": "52bf71f7",
   "metadata": {},
   "outputs": [
    {
     "data": {
      "text/plain": [
       "Index([25, 26, 50, 70, 74, 90, 329, 334, 385, 446, 448, 471, 477, 478], dtype='int64')"
      ]
     },
     "execution_count": 69,
     "metadata": {},
     "output_type": "execute_result"
    }
   ],
   "source": [
    "drop_index"
   ]
  },
  {
   "cell_type": "code",
   "execution_count": 70,
   "id": "ccc2e2ea",
   "metadata": {},
   "outputs": [],
   "source": [
    "df.drop(drop_index,inplace=True)"
   ]
  },
  {
   "cell_type": "code",
   "execution_count": 71,
   "id": "345a226f",
   "metadata": {},
   "outputs": [],
   "source": [
    "df.drop(df.columns[2:],axis=1,inplace=True)"
   ]
  },
  {
   "cell_type": "code",
   "execution_count": 72,
   "id": "b11eff83",
   "metadata": {},
   "outputs": [
    {
     "data": {
      "text/html": [
       "<div>\n",
       "<style scoped>\n",
       "    .dataframe tbody tr th:only-of-type {\n",
       "        vertical-align: middle;\n",
       "    }\n",
       "\n",
       "    .dataframe tbody tr th {\n",
       "        vertical-align: top;\n",
       "    }\n",
       "\n",
       "    .dataframe thead th {\n",
       "        text-align: right;\n",
       "    }\n",
       "</style>\n",
       "<table border=\"1\" class=\"dataframe\">\n",
       "  <thead>\n",
       "    <tr style=\"text-align: right;\">\n",
       "      <th></th>\n",
       "      <th>likesCount</th>\n",
       "      <th>text</th>\n",
       "    </tr>\n",
       "  </thead>\n",
       "  <tbody>\n",
       "    <tr>\n",
       "      <th>0</th>\n",
       "      <td>2</td>\n",
       "      <td>neat comparison heard before would say co like...</td>\n",
       "    </tr>\n",
       "    <tr>\n",
       "      <th>1</th>\n",
       "      <td>0</td>\n",
       "      <td>excellent way visualise invisible thanks</td>\n",
       "    </tr>\n",
       "    <tr>\n",
       "      <th>2</th>\n",
       "      <td>1</td>\n",
       "      <td>coghg troposphere affect stratosphere warmer t...</td>\n",
       "    </tr>\n",
       "    <tr>\n",
       "      <th>3</th>\n",
       "      <td>4</td>\n",
       "      <td>excellent post defo feel difference  one drink...</td>\n",
       "    </tr>\n",
       "    <tr>\n",
       "      <th>4</th>\n",
       "      <td>16</td>\n",
       "      <td>yes carbon dioxide harm earth like people maki...</td>\n",
       "    </tr>\n",
       "  </tbody>\n",
       "</table>\n",
       "</div>"
      ],
      "text/plain": [
       "   likesCount                                               text\n",
       "0           2  neat comparison heard before would say co like...\n",
       "1           0           excellent way visualise invisible thanks\n",
       "2           1  coghg troposphere affect stratosphere warmer t...\n",
       "3           4  excellent post defo feel difference  one drink...\n",
       "4          16  yes carbon dioxide harm earth like people maki..."
      ]
     },
     "execution_count": 72,
     "metadata": {},
     "output_type": "execute_result"
    }
   ],
   "source": [
    "df.head()"
   ]
  },
  {
   "cell_type": "code",
   "execution_count": 73,
   "id": "f00aa5bc",
   "metadata": {},
   "outputs": [],
   "source": [
    "from nltk.sentiment.vader import SentimentIntensityAnalyzer"
   ]
  },
  {
   "cell_type": "code",
   "execution_count": 74,
   "id": "39e9acb8",
   "metadata": {},
   "outputs": [
    {
     "name": "stderr",
     "output_type": "stream",
     "text": [
      "[nltk_data] Downloading package vader_lexicon to\n",
      "[nltk_data]     C:\\Users\\uzuma\\AppData\\Roaming\\nltk_data...\n",
      "[nltk_data]   Package vader_lexicon is already up-to-date!\n"
     ]
    },
    {
     "data": {
      "text/plain": [
       "True"
      ]
     },
     "execution_count": 74,
     "metadata": {},
     "output_type": "execute_result"
    }
   ],
   "source": [
    "nltk.download('vader_lexicon')"
   ]
  },
  {
   "cell_type": "code",
   "execution_count": 75,
   "id": "957aed78",
   "metadata": {},
   "outputs": [],
   "source": [
    "sia = SentimentIntensityAnalyzer()\n",
    "\n",
    "# Function to calculate sentiment\n",
    "def get_sentiment(text):\n",
    "    score = sia.polarity_scores(text)\n",
    "    if score['compound'] >= 0.05:\n",
    "        return 'Positive'\n",
    "    elif score['compound'] <= -0.05:\n",
    "        return 'Negative'\n",
    "    else:\n",
    "        return 'Neutral'"
   ]
  },
  {
   "cell_type": "code",
   "execution_count": 76,
   "id": "0e09627f",
   "metadata": {},
   "outputs": [],
   "source": [
    "df[\"Sentiment\"]=df[\"text\"].apply(get_sentiment)"
   ]
  },
  {
   "cell_type": "code",
   "execution_count": 77,
   "id": "239d269a",
   "metadata": {},
   "outputs": [
    {
     "name": "stdout",
     "output_type": "stream",
     "text": [
      "                                                  text Sentiment\n",
      "0    neat comparison heard before would say co like...  Positive\n",
      "1             excellent way visualise invisible thanks  Positive\n",
      "2    coghg troposphere affect stratosphere warmer t...  Positive\n",
      "3    excellent post defo feel difference  one drink...  Positive\n",
      "4    yes carbon dioxide harm earth like people maki...  Negative\n",
      "..                                                 ...       ...\n",
      "517                                     one hope peak   Positive\n",
      "518     error margin temperature estimations years ago  Negative\n",
      "519          volenteerly help reducing globall warming  Positive\n",
      "520                                       sergio yepes   Neutral\n",
      "521  were experiencing severe abnormal weather patt...  Negative\n",
      "\n",
      "[498 rows x 2 columns]\n"
     ]
    }
   ],
   "source": [
    "print(df[['text','Sentiment']])"
   ]
  },
  {
   "cell_type": "code",
   "execution_count": 78,
   "id": "8dc8b85a",
   "metadata": {},
   "outputs": [
    {
     "data": {
      "image/png": "[encoded data removed]",
      "text/plain": [
       "<Figure size 600x600 with 1 Axes>"
      ]
     },
     "metadata": {},
     "output_type": "display_data"
    }
   ],
   "source": [
    "plt.figure(figsize=(6,6))\n",
    "axes=sns.countplot(x=\"Sentiment\",data=df)\n",
    "plt.title(\"Sentiments count\",fontweight='bold',size=20)\n",
    "plt.xlabel(\"Sentiment\",fontweight='bold',size=20)\n",
    "plt.ylabel(\"Count\",fontweight='bold',size=20)\n",
    "plt.gcf().set_facecolor('#F0F0F0')\n",
    "for bars in axes.containers:\n",
    "    axes.bar_label(bars)\n",
    "    \n",
    "plt.show()    "
   ]
  },
  {
   "cell_type": "code",
   "execution_count": 79,
   "id": "9b952c44",
   "metadata": {},
   "outputs": [],
   "source": [
    "#pip install pandas numpy gensim nltk pyLDAvis"
   ]
  },
  {
   "cell_type": "code",
   "execution_count": 80,
   "id": "d1b6e5ed",
   "metadata": {},
   "outputs": [],
   "source": [
    "df[\"Sentiment\"]=df[\"Sentiment\"].map({'Neutral':0,'Positive':1,'Negative':2})"
   ]
  },
  {
   "cell_type": "code",
   "execution_count": 81,
   "id": "4ae8c40e",
   "metadata": {},
   "outputs": [
    {
     "data": {
      "text/html": [
       "<div>\n",
       "<style scoped>\n",
       "    .dataframe tbody tr th:only-of-type {\n",
       "        vertical-align: middle;\n",
       "    }\n",
       "\n",
       "    .dataframe tbody tr th {\n",
       "        vertical-align: top;\n",
       "    }\n",
       "\n",
       "    .dataframe thead th {\n",
       "        text-align: right;\n",
       "    }\n",
       "</style>\n",
       "<table border=\"1\" class=\"dataframe\">\n",
       "  <thead>\n",
       "    <tr style=\"text-align: right;\">\n",
       "      <th></th>\n",
       "      <th>likesCount</th>\n",
       "      <th>text</th>\n",
       "      <th>Sentiment</th>\n",
       "    </tr>\n",
       "  </thead>\n",
       "  <tbody>\n",
       "    <tr>\n",
       "      <th>0</th>\n",
       "      <td>2</td>\n",
       "      <td>neat comparison heard before would say co like...</td>\n",
       "      <td>1</td>\n",
       "    </tr>\n",
       "    <tr>\n",
       "      <th>1</th>\n",
       "      <td>0</td>\n",
       "      <td>excellent way visualise invisible thanks</td>\n",
       "      <td>1</td>\n",
       "    </tr>\n",
       "    <tr>\n",
       "      <th>2</th>\n",
       "      <td>1</td>\n",
       "      <td>coghg troposphere affect stratosphere warmer t...</td>\n",
       "      <td>1</td>\n",
       "    </tr>\n",
       "    <tr>\n",
       "      <th>3</th>\n",
       "      <td>4</td>\n",
       "      <td>excellent post defo feel difference  one drink...</td>\n",
       "      <td>1</td>\n",
       "    </tr>\n",
       "    <tr>\n",
       "      <th>4</th>\n",
       "      <td>16</td>\n",
       "      <td>yes carbon dioxide harm earth like people maki...</td>\n",
       "      <td>2</td>\n",
       "    </tr>\n",
       "    <tr>\n",
       "      <th>...</th>\n",
       "      <td>...</td>\n",
       "      <td>...</td>\n",
       "      <td>...</td>\n",
       "    </tr>\n",
       "    <tr>\n",
       "      <th>517</th>\n",
       "      <td>0</td>\n",
       "      <td>one hope peak</td>\n",
       "      <td>1</td>\n",
       "    </tr>\n",
       "    <tr>\n",
       "      <th>518</th>\n",
       "      <td>1</td>\n",
       "      <td>error margin temperature estimations years ago</td>\n",
       "      <td>2</td>\n",
       "    </tr>\n",
       "    <tr>\n",
       "      <th>519</th>\n",
       "      <td>3</td>\n",
       "      <td>volenteerly help reducing globall warming</td>\n",
       "      <td>1</td>\n",
       "    </tr>\n",
       "    <tr>\n",
       "      <th>520</th>\n",
       "      <td>1</td>\n",
       "      <td>sergio yepes</td>\n",
       "      <td>0</td>\n",
       "    </tr>\n",
       "    <tr>\n",
       "      <th>521</th>\n",
       "      <td>12</td>\n",
       "      <td>were experiencing severe abnormal weather patt...</td>\n",
       "      <td>2</td>\n",
       "    </tr>\n",
       "  </tbody>\n",
       "</table>\n",
       "<p>498 rows × 3 columns</p>\n",
       "</div>"
      ],
      "text/plain": [
       "     likesCount                                               text  Sentiment\n",
       "0             2  neat comparison heard before would say co like...          1\n",
       "1             0           excellent way visualise invisible thanks          1\n",
       "2             1  coghg troposphere affect stratosphere warmer t...          1\n",
       "3             4  excellent post defo feel difference  one drink...          1\n",
       "4            16  yes carbon dioxide harm earth like people maki...          2\n",
       "..          ...                                                ...        ...\n",
       "517           0                                     one hope peak           1\n",
       "518           1     error margin temperature estimations years ago          2\n",
       "519           3          volenteerly help reducing globall warming          1\n",
       "520           1                                       sergio yepes          0\n",
       "521          12  were experiencing severe abnormal weather patt...          2\n",
       "\n",
       "[498 rows x 3 columns]"
      ]
     },
     "execution_count": 81,
     "metadata": {},
     "output_type": "execute_result"
    }
   ],
   "source": [
    "df"
   ]
  },
  {
   "cell_type": "code",
   "execution_count": 82,
   "id": "228179b3",
   "metadata": {},
   "outputs": [
    {
     "name": "stderr",
     "output_type": "stream",
     "text": [
      "[nltk_data] Downloading package wordnet to\n",
      "[nltk_data]     C:\\Users\\uzuma\\AppData\\Roaming\\nltk_data...\n",
      "[nltk_data]   Package wordnet is already up-to-date!\n"
     ]
    },
    {
     "data": {
      "text/plain": [
       "True"
      ]
     },
     "execution_count": 82,
     "metadata": {},
     "output_type": "execute_result"
    }
   ],
   "source": [
    "nltk.download('wordnet')"
   ]
  },
  {
   "cell_type": "code",
   "execution_count": 83,
   "id": "90075875",
   "metadata": {},
   "outputs": [],
   "source": [
    "from nltk.stem import WordNetLemmatizer"
   ]
  },
  {
   "cell_type": "code",
   "execution_count": 84,
   "id": "82755c66",
   "metadata": {},
   "outputs": [],
   "source": [
    "wnl=WordNetLemmatizer()"
   ]
  },
  {
   "cell_type": "code",
   "execution_count": 85,
   "id": "10ab3044",
   "metadata": {},
   "outputs": [
    {
     "name": "stdout",
     "output_type": "stream",
     "text": [
      "Sentiment\n",
      "1    196\n",
      "0    180\n",
      "2    122\n",
      "Name: count, dtype: int64\n"
     ]
    }
   ],
   "source": [
    "print(df[\"Sentiment\"].value_counts())"
   ]
  },
  {
   "cell_type": "code",
   "execution_count": 86,
   "id": "2331e7f6",
   "metadata": {},
   "outputs": [],
   "source": [
    "x=df[\"text\"]\n",
    "y=df[\"Sentiment\"]\n"
   ]
  },
  {
   "cell_type": "code",
   "execution_count": 87,
   "id": "1e420bb3",
   "metadata": {},
   "outputs": [],
   "source": [
    "from sklearn.model_selection import train_test_split"
   ]
  },
  {
   "cell_type": "code",
   "execution_count": 88,
   "id": "493e6984",
   "metadata": {},
   "outputs": [
    {
     "name": "stdout",
     "output_type": "stream",
     "text": [
      "Original x shape:498\n",
      "Original y shape:498\n"
     ]
    }
   ],
   "source": [
    "print(f\"Original x shape:{len(x)}\")\n",
    "print(f\"Original y shape:{len(y)}\")"
   ]
  },
  {
   "cell_type": "code",
   "execution_count": 89,
   "id": "2df13a06",
   "metadata": {},
   "outputs": [],
   "source": [
    "x_train,x_test,y_train,y_test=train_test_split(x,y,random_state=42,)"
   ]
  },
  {
   "cell_type": "code",
   "execution_count": 90,
   "id": "56ef2316",
   "metadata": {},
   "outputs": [],
   "source": [
    "from imblearn.under_sampling import RandomUnderSampler\n",
    "from sklearn.feature_extraction.text import TfidfVectorizer\n",
    "from sklearn.metrics import accuracy_score, classification_report, confusion_matrix\n",
    "from sklearn.naive_bayes import MultinomialNB"
   ]
  },
  {
   "cell_type": "code",
   "execution_count": 91,
   "id": "2fe79be5",
   "metadata": {},
   "outputs": [],
   "source": [
    "#Initialize TfidfVectorizer\n",
    "vectorizer=TfidfVectorizer(max_features=400)\n"
   ]
  },
  {
   "cell_type": "code",
   "execution_count": 92,
   "id": "a7363cf8",
   "metadata": {},
   "outputs": [],
   "source": [
    "#Fit and Trabsform training data\n",
    "X_train_tfid=vectorizer.fit_transform(x_train)"
   ]
  },
  {
   "cell_type": "code",
   "execution_count": 93,
   "id": "060f5213",
   "metadata": {},
   "outputs": [],
   "source": [
    "# Initializer RandomUnderSampler\n",
    "rus=RandomUnderSampler(random_state=42)"
   ]
  },
  {
   "cell_type": "code",
   "execution_count": 94,
   "id": "bdf5607b",
   "metadata": {},
   "outputs": [],
   "source": [
    "# Resample trainig data\n",
    "x_res,y_res=rus.fit_resample(X_train_tfid,y_train)"
   ]
  },
  {
   "cell_type": "code",
   "execution_count": 95,
   "id": "5d986546",
   "metadata": {},
   "outputs": [
    {
     "name": "stdout",
     "output_type": "stream",
     "text": [
      "Original shape: (373, 400) (373,)\n",
      "Resampled shape: (291, 400) (291,)\n"
     ]
    }
   ],
   "source": [
    "# Print Original and resampled shapes\n",
    "print(\"Original shape:\",X_train_tfid.shape,y_train.shape)\n",
    "print(\"Resampled shape:\", x_res.shape,y_res.shape)"
   ]
  },
  {
   "cell_type": "code",
   "execution_count": 96,
   "id": "2cfc60f9",
   "metadata": {},
   "outputs": [
    {
     "data": {
      "text/html": [
       "<style>#sk-container-id-1 {color: black;}#sk-container-id-1 pre{padding: 0;}#sk-container-id-1 div.sk-toggleable {background-color: white;}#sk-container-id-1 label.sk-toggleable__label {cursor: pointer;display: block;width: 100%;margin-bottom: 0;padding: 0.3em;box-sizing: border-box;text-align: center;}#sk-container-id-1 label.sk-toggleable__label-arrow:before {content: \"▸\";float: left;margin-right: 0.25em;color: #696969;}#sk-container-id-1 label.sk-toggleable__label-arrow:hover:before {color: black;}#sk-container-id-1 div.sk-estimator:hover label.sk-toggleable__label-arrow:before {color: black;}#sk-container-id-1 div.sk-toggleable__content {max-height: 0;max-width: 0;overflow: hidden;text-align: left;background-color: #f0f8ff;}#sk-container-id-1 div.sk-toggleable__content pre {margin: 0.2em;color: black;border-radius: 0.25em;background-color: #f0f8ff;}#sk-container-id-1 input.sk-toggleable__control:checked~div.sk-toggleable__content {max-height: 200px;max-width: 100%;overflow: auto;}#sk-container-id-1 input.sk-toggleable__control:checked~label.sk-toggleable__label-arrow:before {content: \"▾\";}#sk-container-id-1 div.sk-estimator input.sk-toggleable__control:checked~label.sk-toggleable__label {background-color: #d4ebff;}#sk-container-id-1 div.sk-label input.sk-toggleable__control:checked~label.sk-toggleable__label {background-color: #d4ebff;}#sk-container-id-1 input.sk-hidden--visually {border: 0;clip: rect(1px 1px 1px 1px);clip: rect(1px, 1px, 1px, 1px);height: 1px;margin: -1px;overflow: hidden;padding: 0;position: absolute;width: 1px;}#sk-container-id-1 div.sk-estimator {font-family: monospace;background-color: #f0f8ff;border: 1px dotted black;border-radius: 0.25em;box-sizing: border-box;margin-bottom: 0.5em;}#sk-container-id-1 div.sk-estimator:hover {background-color: #d4ebff;}#sk-container-id-1 div.sk-parallel-item::after {content: \"\";width: 100%;border-bottom: 1px solid gray;flex-grow: 1;}#sk-container-id-1 div.sk-label:hover label.sk-toggleable__label {background-color: #d4ebff;}#sk-container-id-1 div.sk-serial::before {content: \"\";position: absolute;border-left: 1px solid gray;box-sizing: border-box;top: 0;bottom: 0;left: 50%;z-index: 0;}#sk-container-id-1 div.sk-serial {display: flex;flex-direction: column;align-items: center;background-color: white;padding-right: 0.2em;padding-left: 0.2em;position: relative;}#sk-container-id-1 div.sk-item {position: relative;z-index: 1;}#sk-container-id-1 div.sk-parallel {display: flex;align-items: stretch;justify-content: center;background-color: white;position: relative;}#sk-container-id-1 div.sk-item::before, #sk-container-id-1 div.sk-parallel-item::before {content: \"\";position: absolute;border-left: 1px solid gray;box-sizing: border-box;top: 0;bottom: 0;left: 50%;z-index: -1;}#sk-container-id-1 div.sk-parallel-item {display: flex;flex-direction: column;z-index: 1;position: relative;background-color: white;}#sk-container-id-1 div.sk-parallel-item:first-child::after {align-self: flex-end;width: 50%;}#sk-container-id-1 div.sk-parallel-item:last-child::after {align-self: flex-start;width: 50%;}#sk-container-id-1 div.sk-parallel-item:only-child::after {width: 0;}#sk-container-id-1 div.sk-dashed-wrapped {border: 1px dashed gray;margin: 0 0.4em 0.5em 0.4em;box-sizing: border-box;padding-bottom: 0.4em;background-color: white;}#sk-container-id-1 div.sk-label label {font-family: monospace;font-weight: bold;display: inline-block;line-height: 1.2em;}#sk-container-id-1 div.sk-label-container {text-align: center;}#sk-container-id-1 div.sk-container {/* jupyter's `normalize.less` sets `[hidden] { display: none; }` but bootstrap.min.css set `[hidden] { display: none !important; }` so we also need the `!important` here to be able to override the default hidden behavior on the sphinx rendered scikit-learn.org. See: https://github.com/scikit-learn/scikit-learn/issues/21755 */display: inline-block !important;position: relative;}#sk-container-id-1 div.sk-text-repr-fallback {display: none;}</style><div id=\"sk-container-id-1\" class=\"sk-top-container\"><div class=\"sk-text-repr-fallback\"><pre>MultinomialNB()</pre><b>In a Jupyter environment, please rerun this cell to show the HTML representation or trust the notebook. <br />On GitHub, the HTML representation is unable to render, please try loading this page with nbviewer.org.</b></div><div class=\"sk-container\" hidden><div class=\"sk-item\"><div class=\"sk-estimator sk-toggleable\"><input class=\"sk-toggleable__control sk-hidden--visually\" id=\"sk-estimator-id-1\" type=\"checkbox\" checked><label for=\"sk-estimator-id-1\" class=\"sk-toggleable__label sk-toggleable__label-arrow\">MultinomialNB</label><div class=\"sk-toggleable__content\"><pre>MultinomialNB()</pre></div></div></div></div></div>"
      ],
      "text/plain": [
       "MultinomialNB()"
      ]
     },
     "execution_count": 96,
     "metadata": {},
     "output_type": "execute_result"
    }
   ],
   "source": [
    "#Train a  Naive Bayes classifier on resampled data\n",
    "nb=MultinomialNB()\n",
    "nb.fit(x_res,y_res)"
   ]
  },
  {
   "cell_type": "code",
   "execution_count": 97,
   "id": "79908e08",
   "metadata": {},
   "outputs": [],
   "source": [
    "#Make the Prediction on test data\n",
    "y_pred=nb.predict(vectorizer.transform(x_test))"
   ]
  },
  {
   "cell_type": "code",
   "execution_count": 98,
   "id": "fcabae73",
   "metadata": {},
   "outputs": [
    {
     "name": "stdout",
     "output_type": "stream",
     "text": [
      "Accuarcy: 0.592\n",
      "Classification Report:\n",
      "              precision    recall  f1-score   support\n",
      "\n",
      "           0       0.64      0.51      0.57        41\n",
      "           1       0.73      0.73      0.73        59\n",
      "           2       0.30      0.40      0.34        25\n",
      "\n",
      "    accuracy                           0.59       125\n",
      "   macro avg       0.56      0.55      0.55       125\n",
      "weighted avg       0.61      0.59      0.60       125\n",
      "\n",
      "Confusion Matrix:\n",
      "[[21  8 12]\n",
      " [ 5 43 11]\n",
      " [ 7  8 10]]\n"
     ]
    }
   ],
   "source": [
    "#Evaluate the model Perforamnce\n",
    "print(\"Accuarcy:\",accuracy_score(y_test,y_pred))\n",
    "print(\"Classification Report:\")\n",
    "print(classification_report(y_test, y_pred))\n",
    "print(\"Confusion Matrix:\")\n",
    "print(confusion_matrix(y_test, y_pred))"
   ]
  },
  {
   "cell_type": "code",
   "execution_count": 99,
   "id": "6a96a8a4",
   "metadata": {},
   "outputs": [
    {
     "name": "stdout",
     "output_type": "stream",
     "text": [
      "Enter a review:excellent way visualise invisible thanks \t\n"
     ]
    }
   ],
   "source": [
    "# Get user input\n",
    "\n",
    "new_review=input(\"Enter a review:\")"
   ]
  },
  {
   "cell_type": "code",
   "execution_count": 100,
   "id": "c6dd9b78",
   "metadata": {},
   "outputs": [],
   "source": [
    "# Transform the new review into a numerical representation\n",
    "new_review_tfidf = vectorizer.transform([new_review])"
   ]
  },
  {
   "cell_type": "code",
   "execution_count": 101,
   "id": "a548d78a",
   "metadata": {},
   "outputs": [
    {
     "name": "stdout",
     "output_type": "stream",
     "text": [
      "Predicted label: 1\n"
     ]
    }
   ],
   "source": [
    " #Make a prediction on the new review\n",
    "prediction = nb.predict(new_review_tfidf)\n",
    "\n",
    "# Print the predicted label\n",
    "print(\"Predicted label:\", prediction[0])\n",
    "\n"
   ]
  },
  {
   "cell_type": "code",
   "execution_count": 102,
   "id": "c36da361",
   "metadata": {},
   "outputs": [
    {
     "name": "stdout",
     "output_type": "stream",
     "text": [
      "Enter a review:sergio yepes \t\n"
     ]
    }
   ],
   "source": [
    "# checking with new review\n",
    "\n",
    "new_review=input(\"Enter a review:\")"
   ]
  },
  {
   "cell_type": "code",
   "execution_count": 103,
   "id": "5f66a688",
   "metadata": {},
   "outputs": [
    {
     "name": "stdout",
     "output_type": "stream",
     "text": [
      "Predicted label: 0\n"
     ]
    }
   ],
   "source": [
    "new_review_tfidf = vectorizer.transform([new_review])\n",
    "prediction = nb.predict(new_review_tfidf)\n",
    "print(\"Predicted label:\", prediction[0])\n"
   ]
  },
  {
   "cell_type": "markdown",
   "id": "9a8eb90e",
   "metadata": {},
   "source": [
    "# Conclusion\n",
    "\n",
    "The Climate Sentiment Analysis project aimed to analyze the sentiment of climate-related text data from the NASA climate dataset. The project involved data preprocessing, sentiment intensity analysis, and machine learning model training. The results showed an accuracy of 59% in predicting the sentiment of the text data. While the results are promising, there is room for improvement in terms of data quality, feature engineering, and model selection.\n"
   ]
  },
  {
   "cell_type": "markdown",
   "id": "6f988591",
   "metadata": {},
   "source": [
    "# Recommendations\n",
    "\n",
    "1. Data Quality Improvement: Further clean and preprocess the data to remove noise and inconsistencies. This can involve handling missing values, removing stop words, and stemming or lemmatizing words.\n",
    "2. Feature Engineering: Explore additional features that can improve the accuracy of the model. This can involve extracting features from the text data, such as sentiment scores, topic models, or named entities."
   ]
  },
  {
   "cell_type": "code",
   "execution_count": null,
   "id": "ad6152e0",
   "metadata": {},
   "outputs": [],
   "source": []
  }
 ],
 "metadata": {
  "kernelspec": {
   "display_name": "Python 3 (ipykernel)",
   "language": "python",
   "name": "python3"
  },
  "language_info": {
   "codemirror_mode": {
    "name": "ipython",
    "version": 3
   },
   "file_extension": ".py",
   "mimetype": "text/x-python",
   "name": "python",
   "nbconvert_exporter": "python",
   "pygments_lexer": "ipython3",
   "version": "3.11.5"
  }
 },
 "nbformat": 4,
 "nbformat_minor": 5
}
